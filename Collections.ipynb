{
  "nbformat": 4,
  "nbformat_minor": 0,
  "metadata": {
    "colab": {
      "name": "Collections.ipynb",
      "provenance": [],
      "authorship_tag": "ABX9TyN/VNtnBfKlYzAFnOpyuJOo",
      "include_colab_link": true
    },
    "kernelspec": {
      "name": "python3",
      "display_name": "Python 3"
    },
    "language_info": {
      "name": "python"
    }
  },
  "cells": [
    {
      "cell_type": "markdown",
      "metadata": {
        "id": "view-in-github",
        "colab_type": "text"
      },
      "source": [
        "<a href=\"https://colab.research.google.com/github/Shraddha-Ramteke/Advanced-Python-Programming/blob/main/Collections.ipynb\" target=\"_parent\"><img src=\"https://colab.research.google.com/assets/colab-badge.svg\" alt=\"Open In Colab\"/></a>"
      ]
    },
    {
      "cell_type": "markdown",
      "source": [
        "# **Collections**\n",
        "#                Collections module implaments special container data type , and provides alternatives with some additional functionality compared to the general Bert and Containers , like dictionaries , lists or tuples.\n",
        "\n",
        "#**Different types of collection module**\n",
        "# 1. Counter\n",
        "# 2. namedtuple\n",
        "# 3. orderedDict\n",
        "# 4. default dict\n",
        "# 5. Deque"
      ],
      "metadata": {
        "id": "BImDzB0ckjQq"
      }
    },
    {
      "cell_type": "markdown",
      "source": [
        "# **Counter**\n",
        "#             It stores the elements as dictionary keys and their counts as dictionary values."
      ],
      "metadata": {
        "id": "scG4XYKsljGi"
      }
    },
    {
      "cell_type": "code",
      "execution_count": 6,
      "metadata": {
        "colab": {
          "base_uri": "https://localhost:8080/"
        },
        "id": "9c6a2WblkdLc",
        "outputId": "96d6fdd5-2601-4ea5-d2f4-11a9c6011f3c"
      },
      "outputs": [
        {
          "output_type": "stream",
          "name": "stdout",
          "text": [
            "Counter({'a': 7, 'c': 6, 'b': 5})\n",
            "[('a', 7)]\n",
            "a\n"
          ]
        }
      ],
      "source": [
        "from collections import Counter\n",
        "\n",
        "a = \"aaaaaaabbbbbcccccc\"\n",
        "my_counter = Counter(a)\n",
        "print(my_counter)\n",
        "\n",
        "print(my_counter.most_common(1))            #For most common element\n",
        "\n",
        "print(my_counter.most_common(1)[0][0])      #For only to see elements"
      ]
    },
    {
      "cell_type": "markdown",
      "source": [
        "# **Namedtuple**\n",
        "#                   Is easy to create and lightweight object type , similar to a struct."
      ],
      "metadata": {
        "id": "T-1ic3QymJ8O"
      }
    },
    {
      "cell_type": "code",
      "source": [
        "from collections import namedtuple\n",
        "\n",
        "point = namedtuple('point','x,y')\n",
        "pt = point(1,-8)\n",
        "print(pt)"
      ],
      "metadata": {
        "colab": {
          "base_uri": "https://localhost:8080/"
        },
        "id": "TsbJeJGfomD5",
        "outputId": "d6901e2d-3309-44e4-c2bc-20c0f26dc1ed"
      },
      "execution_count": 9,
      "outputs": [
        {
          "output_type": "stream",
          "name": "stdout",
          "text": [
            "point(x=1, y=-8)\n"
          ]
        }
      ]
    },
    {
      "cell_type": "markdown",
      "source": [
        "# **Ordered Dict**\n",
        "#                  It is like a regular dictonaries , but they remember the order that the items were inserted."
      ],
      "metadata": {
        "id": "cekLde5mm_sv"
      }
    },
    {
      "cell_type": "code",
      "source": [
        "from collections import OrderedDict\n",
        "\n",
        "ordered_dict = OrderedDict()\n",
        "ordered_dict['a'] = 1\n",
        "ordered_dict['b'] = 2\n",
        "ordered_dict['c'] = 3 \n",
        "ordered_dict['d'] = 4\n",
        "print(ordered_dict)\n"
      ],
      "metadata": {
        "colab": {
          "base_uri": "https://localhost:8080/"
        },
        "id": "AhLvQgpSpN_2",
        "outputId": "2db22373-6dc2-445d-827d-d6be23940225"
      },
      "execution_count": 10,
      "outputs": [
        {
          "output_type": "stream",
          "name": "stdout",
          "text": [
            "OrderedDict([('a', 1), ('b', 2), ('c', 3), ('d', 4)])\n"
          ]
        }
      ]
    },
    {
      "cell_type": "markdown",
      "source": [
        "# **Default dict**\n",
        "#                  It is also similar to the usual dictionary container , with the only difference that it will have a default value if the key has not been set yet."
      ],
      "metadata": {
        "id": "_yS9lB7wnXr1"
      }
    },
    {
      "cell_type": "code",
      "source": [
        "from collections import defaultdict\n",
        "\n",
        "d = defaultdict (int)\n",
        "d['a'] = 1\n",
        "d['b'] = 2\n",
        "print(d['a'])\n",
        "print(d['b'])\n",
        "print(d['c'])"
      ],
      "metadata": {
        "colab": {
          "base_uri": "https://localhost:8080/"
        },
        "id": "o-_pRErMqNOk",
        "outputId": "77e634b1-97bc-4e84-c221-527d0f91005c"
      },
      "execution_count": 11,
      "outputs": [
        {
          "output_type": "stream",
          "name": "stdout",
          "text": [
            "1\n",
            "2\n",
            "0\n"
          ]
        }
      ]
    },
    {
      "cell_type": "markdown",
      "source": [
        "# **Deque**\n",
        "#            Deque is a double ended queue , and it can be used to add or remove elements from both ends . And both are implemented in a way that this will be very efficiently."
      ],
      "metadata": {
        "id": "KdfhblZJnuSg"
      }
    },
    {
      "cell_type": "code",
      "source": [
        "from collections import deque\n",
        "\n",
        "d = deque()\n",
        "d.append(1)\n",
        "d.append(2)\n",
        "\n",
        "d.appendleft(3)\n",
        "print(d)\n",
        "\n",
        "d.extend([4,5,6])\n",
        "print(d)\n",
        "\n",
        "d.rotate(1)\n",
        "print(d)\n",
        "\n",
        "d.popleft()\n",
        "print(d)\n",
        "\n",
        "d.clear()\n",
        "print(d)"
      ],
      "metadata": {
        "colab": {
          "base_uri": "https://localhost:8080/"
        },
        "id": "pkUUqgUNqshr",
        "outputId": "0fd425e2-d459-473d-cca3-d37274ffc4a3"
      },
      "execution_count": 16,
      "outputs": [
        {
          "output_type": "stream",
          "name": "stdout",
          "text": [
            "deque([3, 1, 2])\n",
            "deque([3, 1, 2, 4, 5, 6])\n",
            "deque([6, 3, 1, 2, 4, 5])\n",
            "deque([3, 1, 2, 4, 5])\n",
            "deque([])\n"
          ]
        }
      ]
    }
  ]
}