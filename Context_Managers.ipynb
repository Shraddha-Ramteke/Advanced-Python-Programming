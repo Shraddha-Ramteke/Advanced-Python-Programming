{
  "nbformat": 4,
  "nbformat_minor": 0,
  "metadata": {
    "colab": {
      "name": "Context Managers.ipynb",
      "provenance": [],
      "authorship_tag": "ABX9TyPn12syyrPm+fRdCTeiOQw0",
      "include_colab_link": true
    },
    "kernelspec": {
      "name": "python3",
      "display_name": "Python 3"
    },
    "language_info": {
      "name": "python"
    }
  },
  "cells": [
    {
      "cell_type": "markdown",
      "metadata": {
        "id": "view-in-github",
        "colab_type": "text"
      },
      "source": [
        "<a href=\"https://colab.research.google.com/github/Shraddha-Ramteke/Advanced-Python-Programming/blob/main/Context_Managers.ipynb\" target=\"_parent\"><img src=\"https://colab.research.google.com/assets/colab-badge.svg\" alt=\"Open In Colab\"/></a>"
      ]
    },
    {
      "cell_type": "markdown",
      "source": [
        "# **Context Managers**"
      ],
      "metadata": {
        "id": "qpIcyDHbKubp"
      }
    },
    {
      "cell_type": "markdown",
      "source": [
        "# Context managers are a great tool for resource managenment, they allow you to allocate and release resorces precisely when you want to . \n"
      ],
      "metadata": {
        "id": "a_NXWqBRLkA5"
      }
    },
    {
      "cell_type": "code",
      "execution_count": 2,
      "metadata": {
        "colab": {
          "base_uri": "https://localhost:8080/"
        },
        "id": "UfZO4GCiKqx4",
        "outputId": "dfb0ea19-767f-4497-9186-d3841c7d7eac"
      },
      "outputs": [
        {
          "output_type": "stream",
          "name": "stdout",
          "text": [
            "enter\n",
            "do some stuff...\n",
            "exit\n"
          ]
        }
      ],
      "source": [
        "# Width open statement\n",
        "\n",
        "class ManagedFile:\n",
        "    def __init__(self, filename):\n",
        "        self.filename = filename\n",
        "    def __enter__(self):\n",
        "        print('enter')\n",
        "        self.file = open(self.filename,'w')\n",
        "        return self.file\n",
        "\n",
        "    def __exit__(self, exc_type, exc_value, exc_traceback):\n",
        "      if self.file:\n",
        "         self.file.close()\n",
        "      print('exit')\n",
        "\n",
        "with ManagedFile('notes.txt') as file:\n",
        "     print('do some stuff...')\n",
        "     file.write('some todoo..')\n"
      ]
    }
  ]
}