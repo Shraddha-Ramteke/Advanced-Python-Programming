{
  "nbformat": 4,
  "nbformat_minor": 0,
  "metadata": {
    "colab": {
      "name": "Dictionary.ipynb",
      "provenance": [],
      "authorship_tag": "ABX9TyMXMNKPTZ8cJyvCZyQvWvox",
      "include_colab_link": true
    },
    "kernelspec": {
      "name": "python3",
      "display_name": "Python 3"
    },
    "language_info": {
      "name": "python"
    }
  },
  "cells": [
    {
      "cell_type": "markdown",
      "metadata": {
        "id": "view-in-github",
        "colab_type": "text"
      },
      "source": [
        "<a href=\"https://colab.research.google.com/github/Shraddha-Ramteke/Advanced-Python-Programming/blob/main/Dictionary.ipynb\" target=\"_parent\"><img src=\"https://colab.research.google.com/assets/colab-badge.svg\" alt=\"Open In Colab\"/></a>"
      ]
    },
    {
      "cell_type": "markdown",
      "source": [
        "# **Dictionary**\n",
        "#                Collection data type that is unordered and mutable.\n",
        "# It consists of a collection of Key value pairs So, each key value pair maps the key to its associated value."
      ],
      "metadata": {
        "id": "-M-4eO6bdivS"
      }
    },
    {
      "cell_type": "code",
      "source": [
        "mydict = {\"name\":\"Max\", \"age\": 27 ,\"City\":\"Boston\"}\n",
        "print(mydict)\n",
        "\n"
      ],
      "metadata": {
        "colab": {
          "base_uri": "https://localhost:8080/"
        },
        "id": "ds5xFCF5d_ra",
        "outputId": "76f43d81-3416-4bb3-be3a-d5bacbec7331"
      },
      "execution_count": 11,
      "outputs": [
        {
          "output_type": "stream",
          "name": "stdout",
          "text": [
            "{'name': 'Max', 'age': 27, 'City': 'Boston'}\n"
          ]
        }
      ]
    },
    {
      "cell_type": "code",
      "source": [
        "mydict = {\"name\":\"Max\", \"age\": 27 ,\"City\":\"Boston\"}\n",
        "value = mydict[\"name\"]\n",
        "print(value)"
      ],
      "metadata": {
        "colab": {
          "base_uri": "https://localhost:8080/"
        },
        "id": "cKIKwalDes1v",
        "outputId": "3036f82a-d143-44eb-8988-825167e385fd"
      },
      "execution_count": 13,
      "outputs": [
        {
          "output_type": "stream",
          "name": "stdout",
          "text": [
            "Max\n"
          ]
        }
      ]
    },
    {
      "cell_type": "code",
      "execution_count": 14,
      "metadata": {
        "colab": {
          "base_uri": "https://localhost:8080/"
        },
        "id": "uHjJLYIldhzb",
        "outputId": "a62ae099-8cda-41a6-f430-6025739754e3"
      },
      "outputs": [
        {
          "output_type": "stream",
          "name": "stdout",
          "text": [
            "{'name': 'Max', 'age': 27, 'City': 'Boston', 'email': 'max@xyz.com'}\n"
          ]
        }
      ],
      "source": [
        "mydict = {\"name\":\"Max\", \"age\": 27 ,\"City\":\"Boston\"}\n",
        "mydict[\"email\"]=\"max@xyz.com\"\n",
        "print(mydict)"
      ]
    }
  ]
}