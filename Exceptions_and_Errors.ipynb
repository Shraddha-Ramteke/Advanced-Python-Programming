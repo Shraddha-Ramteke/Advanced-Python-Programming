{
  "nbformat": 4,
  "nbformat_minor": 0,
  "metadata": {
    "colab": {
      "name": "Exceptions and Errors.ipynb",
      "provenance": [],
      "authorship_tag": "ABX9TyPghVnAxxFNKWOIcarPw7jp",
      "include_colab_link": true
    },
    "kernelspec": {
      "name": "python3",
      "display_name": "Python 3"
    },
    "language_info": {
      "name": "python"
    }
  },
  "cells": [
    {
      "cell_type": "markdown",
      "metadata": {
        "id": "view-in-github",
        "colab_type": "text"
      },
      "source": [
        "<a href=\"https://colab.research.google.com/github/Shraddha-Ramteke/Advanced-Python-Programming/blob/main/Exceptions_and_Errors.ipynb\" target=\"_parent\"><img src=\"https://colab.research.google.com/assets/colab-badge.svg\" alt=\"Open In Colab\"/></a>"
      ]
    },
    {
      "cell_type": "markdown",
      "source": [
        "# **Exceptions and Errors**\n",
        "#                             Syntax error occurs when the parser detets a syntanctically incorrect statement"
      ],
      "metadata": {
        "id": "AdhiG0XRe0QQ"
      }
    },
    {
      "cell_type": "code",
      "execution_count": null,
      "metadata": {
        "id": "5TxFPVK6ezgw"
      },
      "outputs": [],
      "source": [
        "a = 5 print(a)  # it will give error becauses its a number , should use new line here ."
      ]
    },
    {
      "cell_type": "code",
      "source": [
        "a = 5  \n",
        "print (a)"
      ],
      "metadata": {
        "colab": {
          "base_uri": "https://localhost:8080/"
        },
        "id": "wZsViNA6fhAW",
        "outputId": "c5b795b0-a05a-400a-9a90-5285e398ae8b"
      },
      "execution_count": 1,
      "outputs": [
        {
          "output_type": "stream",
          "name": "stdout",
          "text": [
            "5\n"
          ]
        }
      ]
    },
    {
      "cell_type": "markdown",
      "source": [
        "# If the statement is syntactically correct ,  still shows error , This error is called **exception error**."
      ],
      "metadata": {
        "id": "1GWfrf2Dflk8"
      }
    },
    {
      "cell_type": "markdown",
      "source": [
        "# There are several different error classes ,  trying to add number and a string will raise a **type error**."
      ],
      "metadata": {
        "id": "hs4G6q7ef4tI"
      }
    },
    {
      "cell_type": "code",
      "source": [
        "a = 5 +\"10\"      # unsupoorted operand types for plus int and string."
      ],
      "metadata": {
        "id": "SguKLRhggGRs"
      },
      "execution_count": null,
      "outputs": []
    },
    {
      "cell_type": "code",
      "source": [
        "import somemodule     # module which does not exits .\n",
        "                      # then this shows module not found error."
      ],
      "metadata": {
        "colab": {
          "base_uri": "https://localhost:8080/",
          "height": 304
        },
        "id": "diKraGlxgXZy",
        "outputId": "0bc45f59-8f1a-46bd-8631-1c7bc6ec9bcc"
      },
      "execution_count": 2,
      "outputs": [
        {
          "output_type": "error",
          "ename": "ModuleNotFoundError",
          "evalue": "ignored",
          "traceback": [
            "\u001b[0;31m---------------------------------------------------------------------------\u001b[0m",
            "\u001b[0;31mModuleNotFoundError\u001b[0m                       Traceback (most recent call last)",
            "\u001b[0;32m<ipython-input-2-29ff33668d2b>\u001b[0m in \u001b[0;36m<module>\u001b[0;34m()\u001b[0m\n\u001b[0;32m----> 1\u001b[0;31m \u001b[0;32mimport\u001b[0m \u001b[0msomemodule\u001b[0m\u001b[0;34m\u001b[0m\u001b[0;34m\u001b[0m\u001b[0m\n\u001b[0m",
            "\u001b[0;31mModuleNotFoundError\u001b[0m: No module named 'somemodule'",
            "",
            "\u001b[0;31m---------------------------------------------------------------------------\u001b[0;32m\nNOTE: If your import is failing due to a missing package, you can\nmanually install dependencies using either !pip or !apt.\n\nTo view examples of installing some common dependencies, click the\n\"Open Examples\" button below.\n\u001b[0;31m---------------------------------------------------------------------------\u001b[0m\n"
          ],
          "errorDetails": {
            "actions": [
              {
                "action": "open_url",
                "actionText": "Open Examples",
                "url": "/notebooks/snippets/importing_libraries.ipynb"
              }
            ]
          }
        }
      ]
    },
    {
      "cell_type": "code",
      "source": [
        "a = 3 \n",
        "b = c                # c is not define yet .\n",
        "                     # name error will raise . "
      ],
      "metadata": {
        "id": "83Xz93cegmbS"
      },
      "execution_count": null,
      "outputs": []
    }
  ]
}