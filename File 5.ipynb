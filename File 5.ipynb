{
  "nbformat": 4,
  "nbformat_minor": 0,
  "metadata": {
    "colab": {
      "name": "Untitled12.ipynb",
      "provenance": [],
      "collapsed_sections": [],
      "authorship_tag": "ABX9TyNhrU6+jKUSguQBWmHg4uSr",
      "include_colab_link": true
    },
    "kernelspec": {
      "name": "python3",
      "display_name": "Python 3"
    },
    "language_info": {
      "name": "python"
    }
  },
  "cells": [
    {
      "cell_type": "markdown",
      "metadata": {
        "id": "view-in-github",
        "colab_type": "text"
      },
      "source": [
        "<a href=\"https://colab.research.google.com/github/Shraddha-Ramteke/Advanced-Python-Programming/blob/main/File%205.ipynb\" target=\"_parent\"><img src=\"https://colab.research.google.com/assets/colab-badge.svg\" alt=\"Open In Colab\"/></a>"
      ]
    },
    {
      "cell_type": "markdown",
      "source": [
        "# If Statement"
      ],
      "metadata": {
        "id": "XyNaSjw_aene"
      }
    },
    {
      "cell_type": "code",
      "execution_count": 2,
      "metadata": {
        "colab": {
          "base_uri": "https://localhost:8080/"
        },
        "id": "z0tB8HYvPctl",
        "outputId": "4d0978e5-3333-4830-bdc4-966be69c19b0"
      },
      "outputs": [
        {
          "output_type": "stream",
          "name": "stdout",
          "text": [
            "You are a male\n"
          ]
        }
      ],
      "source": [
        "is_male = True\n",
        "if is_male :\n",
        "  print(\"You are a male\")\n",
        "else:\n",
        "  print(\"You are not a male\")  "
      ]
    },
    {
      "cell_type": "code",
      "source": [
        "is_male =False\n",
        "if is_male :\n",
        "  print(\"You are a male\")\n",
        "else:\n",
        "  print(\"You are not a male\")  "
      ],
      "metadata": {
        "colab": {
          "base_uri": "https://localhost:8080/"
        },
        "id": "ETDkVbztSO75",
        "outputId": "4b585b45-7e46-4a98-a69f-f2a5167c680b"
      },
      "execution_count": 6,
      "outputs": [
        {
          "output_type": "stream",
          "name": "stdout",
          "text": [
            "You are not a male\n"
          ]
        }
      ]
    },
    {
      "cell_type": "code",
      "source": [
        "is_male = True\n",
        "is_tall = False\n",
        "if is_male and is_tall :\n",
        "    print(\"You are a tall male\")\n",
        "elif is_male and not (is_tall) :    \n",
        "    print(\"You are a short male\")\n",
        "else:\n",
        "    print(\"You are either not male or not tall or both \")    "
      ],
      "metadata": {
        "colab": {
          "base_uri": "https://localhost:8080/"
        },
        "id": "qL6MjRJZSnww",
        "outputId": "52dcad89-bf5a-46a3-ec96-1b7e2fc70b88"
      },
      "execution_count": 18,
      "outputs": [
        {
          "output_type": "stream",
          "name": "stdout",
          "text": [
            "You are a short male\n"
          ]
        }
      ]
    },
    {
      "cell_type": "markdown",
      "source": [
        "# If Statments and Comparision"
      ],
      "metadata": {
        "id": "6YTX5L6vUgt7"
      }
    },
    {
      "cell_type": "code",
      "source": [
        "def max_num (num1 , num2 ,num3 ):\n",
        "  if num1 >= num2 and num1 >= num3 :\n",
        "    return num1 \n",
        "  elif num2 >= num1 and num2>=num3 :\n",
        "    return num2\n",
        "  else :\n",
        "    return num3\n",
        "\n",
        "print(max_num(3,6,10))"
      ],
      "metadata": {
        "colab": {
          "base_uri": "https://localhost:8080/"
        },
        "id": "ig6ukKETUeZy",
        "outputId": "0f764efd-5e1c-4fe3-abf9-994f2fcfd28e"
      },
      "execution_count": 29,
      "outputs": [
        {
          "output_type": "stream",
          "name": "stdout",
          "text": [
            "10\n"
          ]
        }
      ]
    },
    {
      "cell_type": "markdown",
      "source": [
        "# Building a better Calculator"
      ],
      "metadata": {
        "id": "1biNBj3xWs-e"
      }
    },
    {
      "cell_type": "code",
      "source": [
        "num1 = float(input(\"Enter first number :\"))\n",
        "op = input(\"Enter operator :\")\n",
        "num2 = float(input(\"Enter second number :\"))\n",
        "\n",
        "if op == \"+\" :\n",
        "    print(num1 + num2)\n",
        "elif op  == \"-\" : \n",
        "    print(num1 - num2)\n",
        "elif op == \"/\" :\n",
        "    print(num1 % num2)\n",
        "elif op == \"*\" :\n",
        "    print(num1 * num2)\n",
        "else :\n",
        "    print(\"Invalid operator\")"
      ],
      "metadata": {
        "colab": {
          "base_uri": "https://localhost:8080/"
        },
        "id": "kIv9jHKcWzGp",
        "outputId": "f4946106-6fda-4f76-dadd-6c26c9fb46ff"
      },
      "execution_count": 31,
      "outputs": [
        {
          "output_type": "stream",
          "name": "stdout",
          "text": [
            "Enter first number :10\n",
            "Enter operator :+\n",
            "Enter second number :9\n",
            "19.0\n"
          ]
        }
      ]
    }
  ]
}