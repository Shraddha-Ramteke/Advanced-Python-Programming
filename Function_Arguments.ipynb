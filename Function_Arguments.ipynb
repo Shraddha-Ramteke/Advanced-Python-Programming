{
  "nbformat": 4,
  "nbformat_minor": 0,
  "metadata": {
    "colab": {
      "name": "Function Arguments.ipynb",
      "provenance": [],
      "authorship_tag": "ABX9TyNSOKxdapcnmMLXFK+gDnNG",
      "include_colab_link": true
    },
    "kernelspec": {
      "name": "python3",
      "display_name": "Python 3"
    },
    "language_info": {
      "name": "python"
    }
  },
  "cells": [
    {
      "cell_type": "markdown",
      "metadata": {
        "id": "view-in-github",
        "colab_type": "text"
      },
      "source": [
        "<a href=\"https://colab.research.google.com/github/Shraddha-Ramteke/Advanced-Python-Programming/blob/main/Function_Arguments.ipynb\" target=\"_parent\"><img src=\"https://colab.research.google.com/assets/colab-badge.svg\" alt=\"Open In Colab\"/></a>"
      ]
    },
    {
      "cell_type": "markdown",
      "source": [
        "# **Function Arguments**"
      ],
      "metadata": {
        "id": "QVYnEedYrZE6"
      }
    },
    {
      "cell_type": "markdown",
      "source": [
        "# - The difference between arguments and parameter\n",
        "- Positional and keyword arguments \n",
        "- Default arguments \n",
        "- Variable-length arguments (*args and **kwargs)\n",
        "- Container unpacking into funtion arguments\n",
        "- Local vs. global arguments\n",
        "- Parameter passing (by value or by reference )"
      ],
      "metadata": {
        "id": "QYJa27ciraZf"
      }
    },
    {
      "cell_type": "code",
      "execution_count": 1,
      "metadata": {
        "colab": {
          "base_uri": "https://localhost:8080/"
        },
        "id": "cC4amm9XrYV3",
        "outputId": "d70acc60-4447-46cf-af88-e50fd7a50810"
      },
      "outputs": [
        {
          "output_type": "stream",
          "name": "stdout",
          "text": [
            "1 2 3 7\n"
          ]
        }
      ],
      "source": [
        "def foo(a, b, c, d=4):\n",
        "    print(a, b, c, d)\n",
        "\n",
        "foo(1, 2, 3, 7)"
      ]
    },
    {
      "cell_type": "code",
      "source": [
        "def foo(a, b, *args, **kwargs):\n",
        "    print(a, b)\n",
        "    for arg in args:\n",
        "        print(arg)\n",
        "    for key in kwargs:\n",
        "        print(key, kwargs[key])\n",
        "\n",
        "foo(1, 2, 3, 4, 5, six=6, seven=7)"
      ],
      "metadata": {
        "colab": {
          "base_uri": "https://localhost:8080/"
        },
        "id": "uIkwhILCtURI",
        "outputId": "b79d2566-b3a9-4a96-a1bb-0581218ce959"
      },
      "execution_count": 2,
      "outputs": [
        {
          "output_type": "stream",
          "name": "stdout",
          "text": [
            "1 2\n",
            "3\n",
            "4\n",
            "5\n",
            "six 6\n",
            "seven 7\n"
          ]
        }
      ]
    },
    {
      "cell_type": "code",
      "source": [
        "def foo(*args, last):\n",
        "    for arg in args:\n",
        "        print(arg)\n",
        "    print(last)\n",
        "\n",
        "foo(1, 2, 3, last=100)"
      ],
      "metadata": {
        "colab": {
          "base_uri": "https://localhost:8080/"
        },
        "id": "MSMhRyWxuJVh",
        "outputId": "1aad6620-c348-452a-ba0a-93099440d3f6"
      },
      "execution_count": 3,
      "outputs": [
        {
          "output_type": "stream",
          "name": "stdout",
          "text": [
            "1\n",
            "2\n",
            "3\n",
            "100\n"
          ]
        }
      ]
    },
    {
      "cell_type": "code",
      "source": [
        "def foo(a, b, c):\n",
        "    print(a, b, c)\n",
        "    \n",
        "\n",
        "my_list= (0,1,2)\n",
        "foo(*my_list)"
      ],
      "metadata": {
        "colab": {
          "base_uri": "https://localhost:8080/"
        },
        "id": "I1M41Ol7ujma",
        "outputId": "e0c441cb-9189-4661-b0fe-81397915ea5b"
      },
      "execution_count": 4,
      "outputs": [
        {
          "output_type": "stream",
          "name": "stdout",
          "text": [
            "0 1 2\n"
          ]
        }
      ]
    },
    {
      "cell_type": "code",
      "source": [
        "def foo():\n",
        "    global number\n",
        "    x = number\n",
        "    number = 3\n",
        "    print('number inside function:',x)\n",
        "    \n",
        "number = 0\n",
        "foo()"
      ],
      "metadata": {
        "colab": {
          "base_uri": "https://localhost:8080/"
        },
        "id": "ZPofTIwEvGDe",
        "outputId": "e39bdef4-6ac5-404c-81f2-88989797d792"
      },
      "execution_count": 5,
      "outputs": [
        {
          "output_type": "stream",
          "name": "stdout",
          "text": [
            "number inside function: 0\n"
          ]
        }
      ]
    },
    {
      "cell_type": "code",
      "source": [
        "def foo(a_list):\n",
        "    a_list.append(4)\n",
        "\n",
        "my_list = [1, 2, 3]\n",
        "foo(my_list)\n",
        "print(my_list)"
      ],
      "metadata": {
        "colab": {
          "base_uri": "https://localhost:8080/"
        },
        "id": "T77qbF_GvgZr",
        "outputId": "fb1147d1-799c-4dd7-bebe-f2d14c928700"
      },
      "execution_count": 7,
      "outputs": [
        {
          "output_type": "stream",
          "name": "stdout",
          "text": [
            "[1, 2, 3, 4]\n"
          ]
        }
      ]
    }
  ]
}