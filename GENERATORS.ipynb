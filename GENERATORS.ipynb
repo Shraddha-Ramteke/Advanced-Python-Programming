{
  "nbformat": 4,
  "nbformat_minor": 0,
  "metadata": {
    "colab": {
      "name": "GENERATORS.ipynb",
      "provenance": [],
      "authorship_tag": "ABX9TyNyAWGyO0K9nmL11xi8P5tu",
      "include_colab_link": true
    },
    "kernelspec": {
      "name": "python3",
      "display_name": "Python 3"
    },
    "language_info": {
      "name": "python"
    }
  },
  "cells": [
    {
      "cell_type": "markdown",
      "metadata": {
        "id": "view-in-github",
        "colab_type": "text"
      },
      "source": [
        "<a href=\"https://colab.research.google.com/github/Shraddha-Ramteke/Advanced-Python-Programming/blob/main/GENERATORS.ipynb\" target=\"_parent\"><img src=\"https://colab.research.google.com/assets/colab-badge.svg\" alt=\"Open In Colab\"/></a>"
      ]
    },
    {
      "cell_type": "markdown",
      "source": [
        "# **GENERATORS**"
      ],
      "metadata": {
        "id": "_yMGaD1dec64"
      }
    },
    {
      "cell_type": "markdown",
      "source": [
        "# Generators are functions that return an object that can be iterated over .\n",
        "# And the special thing is that they generates the items inside the object lazily , which means they generate the items only one at a time and only when you ask for it .\n",
        "# because of these they are much more memory effecient then other sequence objects when you have to deal with large data sets. They are powerful advanced python."
      ],
      "metadata": {
        "id": "Pwda-GqSemib"
      }
    },
    {
      "cell_type": "code",
      "execution_count": 1,
      "metadata": {
        "colab": {
          "base_uri": "https://localhost:8080/"
        },
        "id": "6y-ntHLnebQL",
        "outputId": "5740a080-f0ad-4d8d-948e-ae5653e6d5b0"
      },
      "outputs": [
        {
          "output_type": "stream",
          "name": "stdout",
          "text": [
            "1\n",
            "2\n",
            "3\n"
          ]
        }
      ],
      "source": [
        "def mygenerator():                    # A generator is defined like a normal function , but with the yield keyword instead of the return .\n",
        "    yield 1 \n",
        "    yield 2\n",
        "    yield 3\n",
        "\n",
        "g = mygenerator()   \n",
        "\n",
        "for i in g :\n",
        "  print(i)"
      ]
    },
    {
      "cell_type": "code",
      "source": [
        "def mygenerator():                    # A generator is defined like a normal function , but with the yield keyword instead of the return .\n",
        "    yield 1 \n",
        "    yield 2\n",
        "    yield 3\n",
        "\n",
        "g = mygenerator()  \n",
        "\n",
        "value = next(g)                   # get the value one at a time\n",
        "print(value)"
      ],
      "metadata": {
        "colab": {
          "base_uri": "https://localhost:8080/"
        },
        "id": "NdNHHLCog-qq",
        "outputId": "f3980c85-58f6-4ace-9b20-5964dc69c8c2"
      },
      "execution_count": 2,
      "outputs": [
        {
          "output_type": "stream",
          "name": "stdout",
          "text": [
            "1\n"
          ]
        }
      ]
    },
    {
      "cell_type": "code",
      "source": [
        "def mygenerator():                    # A generator is defined like a normal function , but with the yield keyword instead of the return .\n",
        "    yield 1 \n",
        "    yield 2\n",
        "    yield 3\n",
        "\n",
        "g = mygenerator()  \n",
        "print(sum(g))                          # use them as input to other fuctions that iterables.\n",
        "                                       # build in sum fuction take iterables"
      ],
      "metadata": {
        "colab": {
          "base_uri": "https://localhost:8080/"
        },
        "id": "4K6lqfD6hqYi",
        "outputId": "8ee8e213-44ed-44e4-f0d8-c0c8fba32c4f"
      },
      "execution_count": 3,
      "outputs": [
        {
          "output_type": "stream",
          "name": "stdout",
          "text": [
            "6\n"
          ]
        }
      ]
    },
    {
      "cell_type": "code",
      "source": [
        "def mygenerator():                    # A generator is defined like a normal function , but with the yield keyword instead of the return .\n",
        "    yield 1 \n",
        "    yield 2\n",
        "    yield 3\n",
        "\n",
        "g = mygenerator()  \n",
        " \n",
        "print(sorted(g))                    # Use the built in sorted method & put the generator object.\n",
        "#this will create and return a new list with all the objects in the sorted object."
      ],
      "metadata": {
        "colab": {
          "base_uri": "https://localhost:8080/"
        },
        "id": "MfG9ECuBif56",
        "outputId": "2f11b685-2df1-4b73-b34f-a2c176bc4ca8"
      },
      "execution_count": 4,
      "outputs": [
        {
          "output_type": "stream",
          "name": "stdout",
          "text": [
            "[1, 2, 3]\n"
          ]
        }
      ]
    }
  ]
}