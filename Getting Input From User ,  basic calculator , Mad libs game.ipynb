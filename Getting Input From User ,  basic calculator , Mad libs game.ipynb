{
  "nbformat": 4,
  "nbformat_minor": 0,
  "metadata": {
    "colab": {
      "name": "Untitled9.ipynb",
      "provenance": [],
      "collapsed_sections": [],
      "authorship_tag": "ABX9TyPgA256QvRonwXyGc3VSgis",
      "include_colab_link": true
    },
    "kernelspec": {
      "name": "python3",
      "display_name": "Python 3"
    },
    "language_info": {
      "name": "python"
    }
  },
  "cells": [
    {
      "cell_type": "markdown",
      "metadata": {
        "id": "view-in-github",
        "colab_type": "text"
      },
      "source": [
        "<a href=\"https://colab.research.google.com/github/Shraddha-Ramteke/Advanced-Python-Programming/blob/main/Getting%20Input%20From%20User%20%2C%20%20basic%20calculator%20%2C%20Mad%20libs%20game.ipynb\" target=\"_parent\"><img src=\"https://colab.research.google.com/assets/colab-badge.svg\" alt=\"Open In Colab\"/></a>"
      ]
    },
    {
      "cell_type": "markdown",
      "source": [
        "# Getting input from User ->"
      ],
      "metadata": {
        "id": "ZHi6IfjQzbTj"
      }
    },
    {
      "cell_type": "code",
      "execution_count": null,
      "metadata": {
        "colab": {
          "base_uri": "https://localhost:8080/"
        },
        "id": "89epZigvzY4t",
        "outputId": "64389c05-2dcd-4d53-fa17-2fa1289d10ca"
      },
      "outputs": [
        {
          "output_type": "stream",
          "name": "stdout",
          "text": [
            "Enter your name : Shraddha\n",
            " Hello Shraddha!\n"
          ]
        }
      ],
      "source": [
        "name = input(\"Enter your name : \")\n",
        "print (\" Hello \" + name + \"!\")"
      ]
    },
    {
      "cell_type": "markdown",
      "source": [
        "# Building a basic calculator ->"
      ],
      "metadata": {
        "id": "2M-LoF-J0BFr"
      }
    },
    {
      "cell_type": "code",
      "source": [
        "num1 = input(\"Enter a number :\")\n",
        "num2 = input(\"Enter 2nd number :\")\n",
        "result = num1 + num2\n",
        "print(result)                           # It will result in string"
      ],
      "metadata": {
        "colab": {
          "base_uri": "https://localhost:8080/"
        },
        "id": "aOxh-LlU0MEw",
        "outputId": "7427e3d7-a44f-4aea-b0cd-fbd690816d61"
      },
      "execution_count": null,
      "outputs": [
        {
          "output_type": "stream",
          "name": "stdout",
          "text": [
            "Enter a number :5\n",
            "Enter 2nd number :5\n",
            "55\n"
          ]
        }
      ]
    },
    {
      "cell_type": "code",
      "source": [
        "num1 = input(\"Enter a number :\")\n",
        "num2 = input(\"Enter 2nd number :\")\n",
        "result = int(num1) + int(num2)\n",
        "print(result)                            # It will result in integer"
      ],
      "metadata": {
        "colab": {
          "base_uri": "https://localhost:8080/"
        },
        "id": "D5-6sg1Q04xv",
        "outputId": "426a636b-a4f0-41f1-e18a-2a1798dd0ca3"
      },
      "execution_count": null,
      "outputs": [
        {
          "output_type": "stream",
          "name": "stdout",
          "text": [
            "Enter a number :5\n",
            "Enter 2nd number :5\n",
            "10\n"
          ]
        }
      ]
    },
    {
      "cell_type": "code",
      "source": [
        "num1 = input(\"Enter a number :\")\n",
        "num2 = input(\"Enter a 2nd number :\")\n",
        "result = float(num1) + float(num2)\n",
        "print(result)                            # It will result in float"
      ],
      "metadata": {
        "colab": {
          "base_uri": "https://localhost:8080/"
        },
        "id": "EnJO4xGB1ft4",
        "outputId": "be5701f5-9ce3-47b3-b3d2-fe7eb8dfa90c"
      },
      "execution_count": null,
      "outputs": [
        {
          "output_type": "stream",
          "name": "stdout",
          "text": [
            "Enter a number :9.6\n",
            "Enter a 2nd number :5.4\n",
            "15.0\n"
          ]
        }
      ]
    },
    {
      "cell_type": "markdown",
      "source": [
        "# Mad libs Game ->\n",
        "#🤪\n",
        "\n"
      ],
      "metadata": {
        "id": "5ZLlBhQ12NEz"
      }
    },
    {
      "cell_type": "code",
      "source": [
        "colour = input(\"Enter a colour :\")\n",
        "puralnoun = input(\"Enter a pural noun : \")\n",
        "celebrity = input(\"Enter a celebrity :\")\n",
        "\n",
        "print(\" Roses are \" + colour  )\n",
        "print( puralnoun  + \" are blue \" )\n",
        "print(\"I Love \" + celebrity)"
      ],
      "metadata": {
        "colab": {
          "base_uri": "https://localhost:8080/"
        },
        "id": "-VMZq1UK2Smx",
        "outputId": "297e6d0e-4c96-4791-f0a8-50f28fdca7e0"
      },
      "execution_count": null,
      "outputs": [
        {
          "output_type": "stream",
          "name": "stdout",
          "text": [
            "Enter a colour :Red\n",
            "Enter a pural noun : Violets\n",
            "Enter a celebrity :Shah rukh\n",
            " Roses are Red\n",
            "Violets are blue \n",
            "I Love Shah rukh\n"
          ]
        }
      ]
    }
  ]
}