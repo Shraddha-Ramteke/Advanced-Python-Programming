{
  "nbformat": 4,
  "nbformat_minor": 0,
  "metadata": {
    "colab": {
      "name": "Itertools.ipynb",
      "provenance": [],
      "collapsed_sections": [],
      "authorship_tag": "ABX9TyO9QHdZth2RsjDYxrNEQdVl",
      "include_colab_link": true
    },
    "kernelspec": {
      "name": "python3",
      "display_name": "Python 3"
    },
    "language_info": {
      "name": "python"
    }
  },
  "cells": [
    {
      "cell_type": "markdown",
      "metadata": {
        "id": "view-in-github",
        "colab_type": "text"
      },
      "source": [
        "<a href=\"https://colab.research.google.com/github/Shraddha-Ramteke/Advanced-Python-Programming/blob/main/Itertools.ipynb\" target=\"_parent\"><img src=\"https://colab.research.google.com/assets/colab-badge.svg\" alt=\"Open In Colab\"/></a>"
      ]
    },
    {
      "cell_type": "markdown",
      "source": [
        "# **Itertools**\n",
        " #       It is a collection of tools for handling iteration . Simply put itertools are data types that can be used in a for loop. \n",
        " # Most common itertools is the **Lists** and the error tools offer some advanced tools.\n"
      ],
      "metadata": {
        "id": "ctKDeywpkz9r"
      }
    },
    {
      "cell_type": "markdown",
      "source": [
        " #Itertools : Product , permutations , combinations , accumulate , grouphy and infinite iterators . "
      ],
      "metadata": {
        "id": "hzSky-nvoalZ"
      }
    },
    {
      "cell_type": "code",
      "execution_count": 2,
      "metadata": {
        "colab": {
          "base_uri": "https://localhost:8080/"
        },
        "id": "VacUQnbIkdLc",
        "outputId": "fedc5252-19aa-4507-ba67-dfd64e983f88"
      },
      "outputs": [
        {
          "output_type": "stream",
          "name": "stdout",
          "text": [
            "[(1, 3), (1, 4), (2, 3), (2, 4)]\n",
            "[(1, 3, 1, 3), (1, 3, 1, 4), (1, 3, 2, 3), (1, 3, 2, 4), (1, 4, 1, 3), (1, 4, 1, 4), (1, 4, 2, 3), (1, 4, 2, 4), (2, 3, 1, 3), (2, 3, 1, 4), (2, 3, 2, 3), (2, 3, 2, 4), (2, 4, 1, 3), (2, 4, 1, 4), (2, 4, 2, 3), (2, 4, 2, 4)]\n"
          ]
        }
      ],
      "source": [
        "from itertools import product \n",
        "a = [1,2]\n",
        "b = [3,4]\n",
        "prod = product(a,b)\n",
        "print(list(prod))\n",
        "prod = product(a,b,repeat= 2)\n",
        "print(list(prod))"
      ]
    },
    {
      "cell_type": "code",
      "source": [
        "from itertools import permutations \n",
        "a =[1,2,3]\n",
        "perm = permutations (a)\n",
        "print(list(perm))\n",
        "\n",
        "perm = permutations (a,2)\n",
        "print(list(perm))"
      ],
      "metadata": {
        "colab": {
          "base_uri": "https://localhost:8080/"
        },
        "id": "ULio34jJtUrm",
        "outputId": "29171719-0a76-45f9-b1aa-6506e3b6f0e0"
      },
      "execution_count": 4,
      "outputs": [
        {
          "output_type": "stream",
          "name": "stdout",
          "text": [
            "[(1, 2, 3), (1, 3, 2), (2, 1, 3), (2, 3, 1), (3, 1, 2), (3, 2, 1)]\n",
            "[(1, 2), (1, 3), (2, 1), (2, 3), (3, 1), (3, 2)]\n"
          ]
        }
      ]
    }
  ]
}