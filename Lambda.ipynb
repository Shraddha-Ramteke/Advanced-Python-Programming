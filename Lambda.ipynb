{
  "nbformat": 4,
  "nbformat_minor": 0,
  "metadata": {
    "colab": {
      "name": "Lambda.ipynb",
      "provenance": [],
      "authorship_tag": "ABX9TyPobz5V9jxIy63gjKqHnmde",
      "include_colab_link": true
    },
    "kernelspec": {
      "name": "python3",
      "display_name": "Python 3"
    },
    "language_info": {
      "name": "python"
    }
  },
  "cells": [
    {
      "cell_type": "markdown",
      "metadata": {
        "id": "view-in-github",
        "colab_type": "text"
      },
      "source": [
        "<a href=\"https://colab.research.google.com/github/Shraddha-Ramteke/Advanced-Python-Programming/blob/main/Lambda.ipynb\" target=\"_parent\"><img src=\"https://colab.research.google.com/assets/colab-badge.svg\" alt=\"Open In Colab\"/></a>"
      ]
    },
    {
      "cell_type": "markdown",
      "source": [
        "# **Lambda**\n",
        "\n",
        "# lambda arguments: expression \n",
        "#                               This will create a function with some argument , and it evaluates the expression and returns the result."
      ],
      "metadata": {
        "id": "p-24aMik1ajp"
      }
    },
    {
      "cell_type": "code",
      "execution_count": 3,
      "metadata": {
        "colab": {
          "base_uri": "https://localhost:8080/"
        },
        "id": "G3e-BQor1Qx3",
        "outputId": "e19e38ac-1d05-4673-fda5-166b80aae384"
      },
      "outputs": [
        {
          "output_type": "stream",
          "name": "stdout",
          "text": [
            "15\n",
            "9\n"
          ]
        }
      ],
      "source": [
        "lambda arguments: expression\n",
        "add10 = lambda x : x+10\n",
        "print(add10(5))\n",
        "\n",
        "def add10_fun(x) :\n",
        "  return x +10\n",
        "\n",
        "mult = lambda x,y:x+y\n",
        "print(mult(2,7))                    # will create a function with 2 arguments and it will multiply these two arguments and returns the result."
      ]
    },
    {
      "cell_type": "markdown",
      "source": [
        "Lambda functions are typically used when a simple function that is used only once in your code , Or it is used as an argument to higher order function , meaning function that take in other functions as arguments."
      ],
      "metadata": {
        "id": "lx64j8p_3tcD"
      }
    },
    {
      "cell_type": "markdown",
      "source": [
        "For example , they are used along with built in function , sorted map , filter and reduce ."
      ],
      "metadata": {
        "id": "chA1la6I4Ym9"
      }
    },
    {
      "cell_type": "code",
      "source": [
        "#map(func, seq)\n",
        "a = [1,2,3,4,5]\n",
        "b = map(lambda x: x*2,a )\n",
        "print(list(b))\n",
        "c= [x*2 for x in a ]\n",
        "print(c)"
      ],
      "metadata": {
        "colab": {
          "base_uri": "https://localhost:8080/"
        },
        "id": "oTMZaJrk7TJP",
        "outputId": "1a0f5aa6-99a8-457b-b20d-0cb81f1ca048"
      },
      "execution_count": 10,
      "outputs": [
        {
          "output_type": "stream",
          "name": "stdout",
          "text": [
            "[2, 4, 6, 8, 10]\n",
            "[2, 4, 6, 8, 10]\n"
          ]
        }
      ]
    },
    {
      "cell_type": "code",
      "source": [
        "#filter(func,seq)\n",
        "a = [1,2,3,4,5,6]\n",
        "b = filter(lambda x :x%2==0,a)\n",
        "print(list(b))\n",
        "\n",
        "c = [x for x in a if x % 2 ==a]\n",
        "print(c)"
      ],
      "metadata": {
        "colab": {
          "base_uri": "https://localhost:8080/"
        },
        "id": "mAx3y1q_BhcR",
        "outputId": "a8a55309-824c-470d-f31d-e26cf56f71ec"
      },
      "execution_count": 11,
      "outputs": [
        {
          "output_type": "stream",
          "name": "stdout",
          "text": [
            "[2, 4, 6]\n",
            "[]\n"
          ]
        }
      ]
    }
  ]
}