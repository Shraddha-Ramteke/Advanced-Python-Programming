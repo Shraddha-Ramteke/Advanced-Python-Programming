{
  "nbformat": 4,
  "nbformat_minor": 0,
  "metadata": {
    "colab": {
      "name": "Untitled11.ipynb",
      "provenance": [],
      "collapsed_sections": [],
      "authorship_tag": "ABX9TyO/2M0xBGp+1U6dXd07lYEc",
      "include_colab_link": true
    },
    "kernelspec": {
      "name": "python3",
      "display_name": "Python 3"
    },
    "language_info": {
      "name": "python"
    }
  },
  "cells": [
    {
      "cell_type": "markdown",
      "metadata": {
        "id": "view-in-github",
        "colab_type": "text"
      },
      "source": [
        "<a href=\"https://colab.research.google.com/github/Shraddha-Ramteke/Advanced-Python-Programming/blob/main/List.ipynb\" target=\"_parent\"><img src=\"https://colab.research.google.com/assets/colab-badge.svg\" alt=\"Open In Colab\"/></a>"
      ]
    },
    {
      "cell_type": "markdown",
      "source": [
        "# **Lists**\n",
        "#            A list is a collection data type that is ordered mutable , and that allows duplicate elements."
      ],
      "metadata": {
        "id": "2FiNa7UGN3LC"
      }
    },
    {
      "cell_type": "code",
      "source": [
        "mylist = [\"Apple\",\"Banana\",\"cherry\"]\n",
        "print(mylist)"
      ],
      "metadata": {
        "id": "x0mXMw5zOPrL",
        "outputId": "39041d79-fbdf-45b7-ede9-7dfa7c82549d",
        "colab": {
          "base_uri": "https://localhost:8080/"
        }
      },
      "execution_count": 1,
      "outputs": [
        {
          "output_type": "stream",
          "name": "stdout",
          "text": [
            "['Apple', 'Banana', 'cherry']\n"
          ]
        }
      ]
    },
    {
      "cell_type": "markdown",
      "source": [
        "# List allows different data type"
      ],
      "metadata": {
        "id": "04b-o53EOkI5"
      }
    },
    {
      "cell_type": "code",
      "source": [
        "mylist = [\"2\",\"Apple\",\"Banana\",\"cherry\",\"true\"]\n",
        "print(mylist)"
      ],
      "metadata": {
        "id": "sw09Hf9rOsGM",
        "outputId": "5e3ca2a5-24f4-4f53-86c6-79e31d381492",
        "colab": {
          "base_uri": "https://localhost:8080/"
        }
      },
      "execution_count": 2,
      "outputs": [
        {
          "output_type": "stream",
          "name": "stdout",
          "text": [
            "['2', 'Apple', 'Banana', 'cherry', 'true']\n"
          ]
        }
      ]
    },
    {
      "cell_type": "markdown",
      "source": [
        "# Check Items in a list"
      ],
      "metadata": {
        "id": "kgn_uy-bO_uw"
      }
    },
    {
      "cell_type": "code",
      "source": [
        "mylist = [\"Apple\",\"Banana\",\"cherry\"]\n",
        "if \"Banana\" in mylist :\n",
        "  print(\"Yes\")\n",
        "else:\n",
        "  print(\"No\") \n"
      ],
      "metadata": {
        "id": "JWoXsCvlPFrj",
        "outputId": "805ee339-3f17-493d-eef8-21ff17476054",
        "colab": {
          "base_uri": "https://localhost:8080/"
        }
      },
      "execution_count": 3,
      "outputs": [
        {
          "output_type": "stream",
          "name": "stdout",
          "text": [
            "Yes\n"
          ]
        }
      ]
    },
    {
      "cell_type": "markdown",
      "source": [
        "# Copying"
      ],
      "metadata": {
        "id": "Z2PS4jyOPneK"
      }
    },
    {
      "cell_type": "code",
      "source": [
        "list_org = [\"Apple\",\"Banana\",\"cherry\"]\n",
        "list_cpy = list(list_org)\n",
        "list_cpy.append(\"Lemon\")\n",
        "\n",
        "print(list_cpy)\n",
        "print(list_org)"
      ],
      "metadata": {
        "id": "p-5L7mP0Pry9",
        "outputId": "1afb5d6d-b4a3-41ba-b2b6-7fa523c30249",
        "colab": {
          "base_uri": "https://localhost:8080/"
        }
      },
      "execution_count": 4,
      "outputs": [
        {
          "output_type": "stream",
          "name": "stdout",
          "text": [
            "['Apple', 'Banana', 'cherry', 'Lemon']\n",
            "['Apple', 'Banana', 'cherry']\n"
          ]
        }
      ]
    },
    {
      "cell_type": "markdown",
      "source": [
        "# For more list functions refer python-for-everybody repository."
      ],
      "metadata": {
        "id": "1STcqqsRTPqQ"
      }
    }
  ]
}