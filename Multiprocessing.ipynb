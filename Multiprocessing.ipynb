{
  "nbformat": 4,
  "nbformat_minor": 0,
  "metadata": {
    "colab": {
      "name": "Multiprocessing.ipynb",
      "provenance": [],
      "authorship_tag": "ABX9TyPc2f26oe06vlWZ3pr58Kd/",
      "include_colab_link": true
    },
    "kernelspec": {
      "name": "python3",
      "display_name": "Python 3"
    },
    "language_info": {
      "name": "python"
    }
  },
  "cells": [
    {
      "cell_type": "markdown",
      "metadata": {
        "id": "view-in-github",
        "colab_type": "text"
      },
      "source": [
        "<a href=\"https://colab.research.google.com/github/Shraddha-Ramteke/Advanced-Python-Programming/blob/main/Multiprocessing.ipynb\" target=\"_parent\"><img src=\"https://colab.research.google.com/assets/colab-badge.svg\" alt=\"Open In Colab\"/></a>"
      ]
    },
    {
      "cell_type": "markdown",
      "source": [
        "# **Multiprocessing**"
      ],
      "metadata": {
        "id": "MIH78gOAdyQB"
      }
    },
    {
      "cell_type": "code",
      "execution_count": 4,
      "metadata": {
        "colab": {
          "base_uri": "https://localhost:8080/"
        },
        "id": "dhtZ0MHUdYQT",
        "outputId": "71cdcfc9-cee9-41ef-c0a5-25a019aee165"
      },
      "outputs": [
        {
          "output_type": "stream",
          "name": "stdout",
          "text": [
            "end main\n"
          ]
        }
      ],
      "source": [
        "from multiprocessing import Process\n",
        "import os\n",
        "import time \n",
        "def square_numbers():\n",
        "    for i in range(100):\n",
        "        i * i\n",
        "        time.sleep(0.1)\n",
        "if __name__ == \"__main__\":\n",
        "   processes = []\n",
        "num_processes = os.cpu_count()\n",
        "# number of CPUs on the machine. Usually a good choise for the number of processes\n",
        "\n",
        "# create processes and asign a function for each process\n",
        "for i in range(num_processes):\n",
        "     p = Process(target=square_numbers)              #target is a argument i.e. object or a function that is then executed by this program process.\n",
        "     processes.append(p)\n",
        "\n",
        "# Start all processes\n",
        "for p in processes:\n",
        "    p.start()\n",
        "# wait for all processes to finish\n",
        "# block the main program until these processes are finished\n",
        "for p in processes:\n",
        "    p.join()\n",
        "\n",
        "print('end main')"
      ]
    },
    {
      "cell_type": "markdown",
      "source": [
        "# we learned that we can easily share data between threads with global variable .And now with processes , processes don't live in the same memory space , so that don't have  access to the same public data . And because of that , they need special shared memory objects to share data . And there are two shared memory objects that we can use , we can use a value for a single value, or we can use an array. So we say from multi processing , import value and import array."
      ],
      "metadata": {
        "id": "6x7EVUnKjP64"
      }
    },
    {
      "cell_type": "code",
      "source": [
        "from multiprocessing import Process, Value , Array \n",
        "import os \n",
        "\n",
        "def square_numbers():\n",
        "    for i in range(1000):\n",
        "        i * i\n",
        "\n",
        "if __name__ == \"__main__\":\n",
        "   shared_number = Value('i',0)\n",
        "   print('Number at beginning is',shared_number.value)\n"
      ],
      "metadata": {
        "colab": {
          "base_uri": "https://localhost:8080/"
        },
        "id": "scNaBXT-lOF1",
        "outputId": "59d22042-e121-4623-b618-760d05059fee"
      },
      "execution_count": 6,
      "outputs": [
        {
          "output_type": "stream",
          "name": "stdout",
          "text": [
            "Number at beginning is 0\n"
          ]
        }
      ]
    },
    {
      "cell_type": "code",
      "source": [
        "from multiprocessing import Process, Value , Array \n",
        "import time \n",
        "\n",
        "def add_100(number):\n",
        "    for i in range(100):\n",
        "        time.sleep(0.01)\n",
        "        number.value += 1\n",
        "\n",
        "if __name__ == \"__main__\":\n",
        "   shared_number = Value('i',0)\n",
        "   print('Number at beginning is',shared_number.value)\n",
        "\n",
        "   p1 = Process(target=add_100, args=(shared_number,))\n",
        "   p2 = Process(target=add_100, args=(shared_number,))\n",
        "\n",
        "   p1.start()\n",
        "   p2.start()\n",
        "\n",
        "   p1.join()\n",
        "   p2.join()\n",
        "\n",
        "   print('number at end is', shared_number.value)\n",
        "\n",
        "   # here out put is not 200 because race condition took place.\n"
      ],
      "metadata": {
        "colab": {
          "base_uri": "https://localhost:8080/"
        },
        "id": "KgkfX8yWm76J",
        "outputId": "f4fe0c35-8f9b-42f6-fa8d-acae87c837a6"
      },
      "execution_count": 7,
      "outputs": [
        {
          "output_type": "stream",
          "name": "stdout",
          "text": [
            "Number at beginning is 0\n",
            "number at end is 195\n"
          ]
        }
      ]
    }
  ]
}