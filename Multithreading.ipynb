{
  "nbformat": 4,
  "nbformat_minor": 0,
  "metadata": {
    "colab": {
      "name": "Multithreading.ipynb",
      "provenance": [],
      "authorship_tag": "ABX9TyPcfYsyOcnONh8JPErIDpUE",
      "include_colab_link": true
    },
    "kernelspec": {
      "name": "python3",
      "display_name": "Python 3"
    },
    "language_info": {
      "name": "python"
    }
  },
  "cells": [
    {
      "cell_type": "markdown",
      "metadata": {
        "id": "view-in-github",
        "colab_type": "text"
      },
      "source": [
        "<a href=\"https://colab.research.google.com/github/Shraddha-Ramteke/Advanced-Python-Programming/blob/main/Multithreading.ipynb\" target=\"_parent\"><img src=\"https://colab.research.google.com/assets/colab-badge.svg\" alt=\"Open In Colab\"/></a>"
      ]
    },
    {
      "cell_type": "markdown",
      "source": [
        "# **Multithreading**"
      ],
      "metadata": {
        "id": "w29dp7jDSEHd"
      }
    },
    {
      "cell_type": "code",
      "execution_count": 4,
      "metadata": {
        "colab": {
          "base_uri": "https://localhost:8080/"
        },
        "id": "BfMfPjAZJcNx",
        "outputId": "96ff09d8-9d2f-4a7a-d91e-5f7b1a44750d"
      },
      "outputs": [
        {
          "output_type": "stream",
          "name": "stdout",
          "text": [
            "end main\n"
          ]
        }
      ],
      "source": [
        "from threading import Thread\n",
        "import os\n",
        " \n",
        "def square_numbers():\n",
        "    for i in range(100):\n",
        "        i * i\n",
        "        \n",
        "if __name__ == \"__main__\" :\n",
        "  threads = []\n",
        "  num_threads = 10\n",
        "\n",
        "\n",
        "# create processes\n",
        "for i in range(num_threads):\n",
        "     thread = Thread(target=square_numbers)              #target is a argument i.e. object or a function that is then executed by this program process.\n",
        "     threads.append(thread)\n",
        "\n",
        "# Start\n",
        "for thread in threads:\n",
        "    thread.start()\n",
        "\n",
        "# join thread : wait for them to complete\n",
        "for thread in threads:\n",
        "    thread.join()\n",
        "\n",
        "print('end main')"
      ]
    },
    {
      "cell_type": "code",
      "source": [
        "from threading import Thread\n",
        "import time\n",
        " \n",
        "                                # share data between threads,since threads live in the same memory space , they have access to the same data .\n",
        "database_value = 0              # global variable                 \n",
        "\n",
        "def increase():\n",
        "  global database_value\n",
        "\n",
        "  local_copy = database_value\n",
        "  # processing \n",
        "  local_copy += 1\n",
        "  time.sleep(0.1)\n",
        "\n",
        "  database_value = local_copy\n",
        "\n",
        "if __name__ == \"__main__\" :\n",
        "    print('start value', database_value)\n",
        "\n",
        "    thread1 = Thread(target=increase)\n",
        "    thread2 = Thread(target=increase)\n",
        "\n",
        "    thread1.start()\n",
        "    thread2.start()\n",
        "\n",
        "    thread1.join()\n",
        "    thread2.join()\n",
        "    \n",
        "    print('end value' , database_value)\n",
        "print('end main')\n",
        "\n",
        "# start value is 0 because we have 2 threads . And both threads should increase our database value .\n",
        "# end value should be 2 but now it is 1 because we have a race condition here . "
      ],
      "metadata": {
        "colab": {
          "base_uri": "https://localhost:8080/"
        },
        "id": "03aMnY4YUNLo",
        "outputId": "1c454ccc-607f-4fb6-9dce-a3edee2a908d"
      },
      "execution_count": 6,
      "outputs": [
        {
          "output_type": "stream",
          "name": "stdout",
          "text": [
            "start value 0\n",
            "end value 1\n",
            "end main\n"
          ]
        }
      ]
    }
  ]
}