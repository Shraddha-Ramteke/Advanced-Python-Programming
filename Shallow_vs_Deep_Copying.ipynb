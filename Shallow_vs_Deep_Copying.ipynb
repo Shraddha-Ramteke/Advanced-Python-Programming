{
  "nbformat": 4,
  "nbformat_minor": 0,
  "metadata": {
    "colab": {
      "name": "Shallow vs Deep Copying.ipynb",
      "provenance": [],
      "authorship_tag": "ABX9TyPw7U3Rgcj1BCnhzfhi5nRG",
      "include_colab_link": true
    },
    "kernelspec": {
      "name": "python3",
      "display_name": "Python 3"
    },
    "language_info": {
      "name": "python"
    }
  },
  "cells": [
    {
      "cell_type": "markdown",
      "metadata": {
        "id": "view-in-github",
        "colab_type": "text"
      },
      "source": [
        "<a href=\"https://colab.research.google.com/github/Shraddha-Ramteke/Advanced-Python-Programming/blob/main/Shallow_vs_Deep_Copying.ipynb\" target=\"_parent\"><img src=\"https://colab.research.google.com/assets/colab-badge.svg\" alt=\"Open In Colab\"/></a>"
      ]
    },
    {
      "cell_type": "markdown",
      "source": [
        "# **Shallow vs Deep Copying**"
      ],
      "metadata": {
        "id": "ELAIJIwEGd1u"
      }
    },
    {
      "cell_type": "code",
      "execution_count": 1,
      "metadata": {
        "colab": {
          "base_uri": "https://localhost:8080/"
        },
        "id": "nmFC-zhGGNyC",
        "outputId": "d02bafb8-2a72-4aa4-8c82-1a53a4171c5a"
      },
      "outputs": [
        {
          "output_type": "stream",
          "name": "stdout",
          "text": [
            "[-10, 1, 2, 3, 4]\n",
            "[-10, 1, 2, 3, 4]\n"
          ]
        }
      ],
      "source": [
        "# Assignment operator\n",
        "org = [0, 1, 2, 3, 4]\n",
        "cpy = org\n",
        "cpy[0] = -10\n",
        "print(cpy)\n",
        "print(org)"
      ]
    },
    {
      "cell_type": "code",
      "source": [
        "import copy\n",
        "org = [[0, 1, 2, 3, 4],[5, 6, 7, 8, 9]]\n",
        "cpy = copy.copy(org)\n",
        "cpy[0][1] = -10\n",
        "print(cpy)\n",
        "print(org)"
      ],
      "metadata": {
        "colab": {
          "base_uri": "https://localhost:8080/"
        },
        "id": "_9DEELCEJJ1g",
        "outputId": "2a363f7d-7375-4686-b80a-7033e24feed4"
      },
      "execution_count": 2,
      "outputs": [
        {
          "output_type": "stream",
          "name": "stdout",
          "text": [
            "[[0, -10, 2, 3, 4], [5, 6, 7, 8, 9]]\n",
            "[[0, -10, 2, 3, 4], [5, 6, 7, 8, 9]]\n"
          ]
        }
      ]
    },
    {
      "cell_type": "code",
      "source": [
        "import copy\n",
        "org = [[0, 1, 2, 3, 4],[5, 6, 7, 8, 9]]\n",
        "cpy = copy.deepcopy(org)\n",
        "cpy[0][1] = -10\n",
        "print(cpy)\n",
        "print(org)"
      ],
      "metadata": {
        "colab": {
          "base_uri": "https://localhost:8080/"
        },
        "id": "4UvigavPJTXb",
        "outputId": "33728b69-1c6b-4c5a-c931-ca0638f35b6b"
      },
      "execution_count": 3,
      "outputs": [
        {
          "output_type": "stream",
          "name": "stdout",
          "text": [
            "[[0, -10, 2, 3, 4], [5, 6, 7, 8, 9]]\n",
            "[[0, 1, 2, 3, 4], [5, 6, 7, 8, 9]]\n"
          ]
        }
      ]
    },
    {
      "cell_type": "code",
      "source": [
        "import copy\n",
        "class Person:\n",
        "    def __init__(self, name, age):\n",
        "        self.name = name\n",
        "        self.age = age\n",
        "p1 = Person('Alex',27)\n",
        "p2 = p1\n",
        "\n",
        "p2.age = 28\n",
        "print(p2.age)\n",
        "print(p1.age)"
      ],
      "metadata": {
        "colab": {
          "base_uri": "https://localhost:8080/"
        },
        "id": "IhSCZkZnKC3l",
        "outputId": "1c570595-b0a3-41d3-96bf-5cbb8bdc18ce"
      },
      "execution_count": 4,
      "outputs": [
        {
          "output_type": "stream",
          "name": "stdout",
          "text": [
            "28\n",
            "28\n"
          ]
        }
      ]
    }
  ]
}