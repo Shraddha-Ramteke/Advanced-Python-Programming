{
  "nbformat": 4,
  "nbformat_minor": 0,
  "metadata": {
    "colab": {
      "name": "The Asterisk (*) Operator.ipynb",
      "provenance": [],
      "authorship_tag": "ABX9TyNUbtWl1n5WAJVxGjbpCOBM",
      "include_colab_link": true
    },
    "kernelspec": {
      "name": "python3",
      "display_name": "Python 3"
    },
    "language_info": {
      "name": "python"
    }
  },
  "cells": [
    {
      "cell_type": "markdown",
      "metadata": {
        "id": "view-in-github",
        "colab_type": "text"
      },
      "source": [
        "<a href=\"https://colab.research.google.com/github/Shraddha-Ramteke/Advanced-Python-Programming/blob/main/The_Asterisk_(_)_Operator.ipynb\" target=\"_parent\"><img src=\"https://colab.research.google.com/assets/colab-badge.svg\" alt=\"Open In Colab\"/></a>"
      ]
    },
    {
      "cell_type": "markdown",
      "source": [
        "# **The Asterisk (*) Operator**"
      ],
      "metadata": {
        "id": "Bg3iVi6z-oXt"
      }
    },
    {
      "cell_type": "markdown",
      "source": [
        "# Also known as Star sign in python , so itcan use in different cases like multiplication and power operations , the creation of lists or tuples, with repeated elements , for arts quarks and keyword only parameters for unpacking lists, tuples or dictionaries into function arguments , for unpavking containers and for merging containers into a list or merging two dictionaries."
      ],
      "metadata": {
        "id": "rPHijMqL_2SF"
      }
    },
    {
      "cell_type": "code",
      "execution_count": 2,
      "metadata": {
        "colab": {
          "base_uri": "https://localhost:8080/"
        },
        "id": "z_iKRolD-eA5",
        "outputId": "a5baf2ee-818e-486e-f6b1-8bd35260f6c7"
      },
      "outputs": [
        {
          "output_type": "stream",
          "name": "stdout",
          "text": [
            "85\n"
          ]
        }
      ],
      "source": [
        "result = 5*17      # multiplication\n",
        "print(result)      "
      ]
    },
    {
      "cell_type": "code",
      "source": [
        "result = 2 ** 4     # 2 to the power 4\n",
        "print(result)"
      ],
      "metadata": {
        "colab": {
          "base_uri": "https://localhost:8080/"
        },
        "id": "afIkc83FA4sQ",
        "outputId": "afaa6149-1d60-410f-9e2a-40d3f34d2d67"
      },
      "execution_count": 3,
      "outputs": [
        {
          "output_type": "stream",
          "name": "stdout",
          "text": [
            "16\n"
          ]
        }
      ]
    },
    {
      "cell_type": "code",
      "source": [
        "zeros = [0] * 10    # list with 10 elements and each element has a zero.\n",
        "print(zeros)"
      ],
      "metadata": {
        "colab": {
          "base_uri": "https://localhost:8080/"
        },
        "id": "HObCRp1sBLzq",
        "outputId": "c9600463-2455-4b29-f353-50240b085192"
      },
      "execution_count": 4,
      "outputs": [
        {
          "output_type": "stream",
          "name": "stdout",
          "text": [
            "[0, 0, 0, 0, 0, 0, 0, 0, 0, 0]\n"
          ]
        }
      ]
    },
    {
      "cell_type": "code",
      "source": [
        "def foo(a, b, *args, **kwargs):\n",
        "    print(a, b)\n",
        "    for arg in args:\n",
        "        print(arg)\n",
        "    for key in kwargs:\n",
        "        print(key, kwargs[key])\n",
        "\n",
        "foo(1, 2, 3, 4, 5, six=6, seven=7)"
      ],
      "metadata": {
        "colab": {
          "base_uri": "https://localhost:8080/"
        },
        "id": "a8uX0VNRDwdr",
        "outputId": "f8370d75-e658-4ba9-d475-2161ad01fde4"
      },
      "execution_count": 7,
      "outputs": [
        {
          "output_type": "stream",
          "name": "stdout",
          "text": [
            "1 2\n",
            "3\n",
            "4\n",
            "5\n",
            "six 6\n",
            "seven 7\n"
          ]
        }
      ]
    },
    {
      "cell_type": "code",
      "source": [
        "def foo(a, b, c):\n",
        "    print(a, b)\n",
        "\n",
        "foo(1, 2, c=3)"
      ],
      "metadata": {
        "colab": {
          "base_uri": "https://localhost:8080/"
        },
        "id": "-Nq7bvL4ELzd",
        "outputId": "50b62245-edaa-404d-bde6-6c157158c4a9"
      },
      "execution_count": 6,
      "outputs": [
        {
          "output_type": "stream",
          "name": "stdout",
          "text": [
            "1 2\n"
          ]
        }
      ]
    },
    {
      "cell_type": "code",
      "source": [
        "# Asterisk for argument unpacking\n",
        "def foo(a, b, c):\n",
        "    print(a, b, c)\n",
        "\n",
        "my_list = [0, 1 ,2]\n",
        "foo(*my_list)        # the number of parameter here , the number elements in the list must match the number of RF parameters.\n"
      ],
      "metadata": {
        "colab": {
          "base_uri": "https://localhost:8080/"
        },
        "id": "6PRECjR7Eg0g",
        "outputId": "94de1876-ab28-4d33-efee-ea402ab0d92a"
      },
      "execution_count": 10,
      "outputs": [
        {
          "output_type": "stream",
          "name": "stdout",
          "text": [
            "0 1 2\n"
          ]
        }
      ]
    },
    {
      "cell_type": "code",
      "source": [
        "numbers = (1, 2, 3, 4, 5, 6)\n",
        "\n",
        "*beginning, last = numbers\n",
        "print(beginning)\n",
        "print(last)         # unpack the last number"
      ],
      "metadata": {
        "colab": {
          "base_uri": "https://localhost:8080/"
        },
        "id": "-zAXxKVkFVsR",
        "outputId": "0e17f292-9f67-43ba-80a4-206689661251"
      },
      "execution_count": 12,
      "outputs": [
        {
          "output_type": "stream",
          "name": "stdout",
          "text": [
            "[1, 2, 3, 4, 5]\n",
            "6\n"
          ]
        }
      ]
    },
    {
      "cell_type": "code",
      "source": [
        "numbers = (1, 2, 3, 4, 5, 6)\n",
        "\n",
        "beginning, *last = numbers\n",
        "print(beginning)\n",
        "print(last)          # Unpack the first number"
      ],
      "metadata": {
        "colab": {
          "base_uri": "https://localhost:8080/"
        },
        "id": "2LV25nEWFrly",
        "outputId": "552386f0-e0e5-4181-a1c3-5be5c358ac5c"
      },
      "execution_count": 13,
      "outputs": [
        {
          "output_type": "stream",
          "name": "stdout",
          "text": [
            "1\n",
            "[2, 3, 4, 5, 6]\n"
          ]
        }
      ]
    }
  ]
}