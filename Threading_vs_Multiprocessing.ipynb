{
  "nbformat": 4,
  "nbformat_minor": 0,
  "metadata": {
    "colab": {
      "name": " Threading vs Multiprocessing.ipynb",
      "provenance": [],
      "authorship_tag": "ABX9TyOyd9aYG6nGMxkvtNmdvnJ1",
      "include_colab_link": true
    },
    "kernelspec": {
      "name": "python3",
      "display_name": "Python 3"
    },
    "language_info": {
      "name": "python"
    }
  },
  "cells": [
    {
      "cell_type": "markdown",
      "metadata": {
        "id": "view-in-github",
        "colab_type": "text"
      },
      "source": [
        "<a href=\"https://colab.research.google.com/github/Shraddha-Ramteke/Advanced-Python-Programming/blob/main/Threading_vs_Multiprocessing.ipynb\" target=\"_parent\"><img src=\"https://colab.research.google.com/assets/colab-badge.svg\" alt=\"Open In Colab\"/></a>"
      ]
    },
    {
      "cell_type": "markdown",
      "source": [
        "# **Threading vs Multiprocessing**"
      ],
      "metadata": {
        "id": "MEd27nlejYl_"
      }
    },
    {
      "cell_type": "markdown",
      "source": [
        "# Process : An instance of a program \n",
        "\n",
        "* Takes advantage of multiple CPUs and cores \n",
        "* Seperate memory space -> Memory is not shared between processes.\n",
        "* Greatfor CPU-bound processing \n",
        "* New process is started independently from other processes .\n",
        "* Processes are interruptable/killable\n",
        "* One GIL for each process -> avoids GIL limitation.\n",
        "\n",
        "- Heavyweight\n",
        "- Starting a process is slower than starting a thread.\n",
        "- More memory .\n",
        "- IPC(inter-process communication) is more complicated "
      ],
      "metadata": {
        "id": "JkF6VAIElOvo"
      }
    },
    {
      "cell_type": "markdown",
      "source": [
        "# Threads : An entity within a process that can be schedules \n",
        "A process can spaw multiple threads.\n",
        "\n",
        "* All threads within a process share the same memory.\n",
        "* Leightweight\n",
        "* Starting a thread is faster than starting a process \n",
        "* Great for I/0-bound tasks.\n",
        "\n",
        "- Threading is limited by GIL : Only one thread at a time.\n",
        "-No effects for CPU-bound tasks.\n",
        "-Not interruptable/killable\n",
        "-Careful with race conditions."
      ],
      "metadata": {
        "id": "YTXG3LoimUGJ"
      }
    },
    {
      "cell_type": "code",
      "execution_count": null,
      "metadata": {
        "id": "61kLUxWtjSYh"
      },
      "outputs": [],
      "source": [
        ""
      ]
    }
  ]
}