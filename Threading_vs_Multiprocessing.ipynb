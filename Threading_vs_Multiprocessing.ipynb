{
  "nbformat": 4,
  "nbformat_minor": 0,
  "metadata": {
    "colab": {
      "name": " Threading vs Multiprocessing.ipynb",
      "provenance": [],
      "authorship_tag": "ABX9TyMEUFHZ5bkVsy305cvvi628",
      "include_colab_link": true
    },
    "kernelspec": {
      "name": "python3",
      "display_name": "Python 3"
    },
    "language_info": {
      "name": "python"
    }
  },
  "cells": [
    {
      "cell_type": "markdown",
      "metadata": {
        "id": "view-in-github",
        "colab_type": "text"
      },
      "source": [
        "<a href=\"https://colab.research.google.com/github/Shraddha-Ramteke/Advanced-Python-Programming/blob/main/Threading_vs_Multiprocessing.ipynb\" target=\"_parent\"><img src=\"https://colab.research.google.com/assets/colab-badge.svg\" alt=\"Open In Colab\"/></a>"
      ]
    },
    {
      "cell_type": "markdown",
      "source": [
        "# **Threading vs Multiprocessing**"
      ],
      "metadata": {
        "id": "MEd27nlejYl_"
      }
    },
    {
      "cell_type": "markdown",
      "source": [
        "# Process : An instance of a program \n",
        "\n",
        "* Takes advantage of multiple CPUs and cores \n",
        "* Seperate memory space -> Memory is not shared between processes.\n",
        "* Greatfor CPU-bound processing \n",
        "* New process is started independently from other processes .\n",
        "* Processes are interruptable/killable\n",
        "* One GIL for each process -> avoids GIL limitation.\n",
        "\n",
        "- Heavyweight\n",
        "- Starting a process is slower than starting a thread.\n",
        "- More memory .\n",
        "- IPC(inter-process communication) is more complicated "
      ],
      "metadata": {
        "id": "JkF6VAIElOvo"
      }
    },
    {
      "cell_type": "markdown",
      "source": [
        "# Threads : An entity within a process that can be schedules \n",
        "A process can spaw multiple threads.\n",
        "\n",
        "* All threads within a process share the same memory.\n",
        "* Leightweight\n",
        "* Starting a thread is faster than starting a process \n",
        "* Great for I/0-bound tasks.\n",
        "\n",
        "- Threading is limited by GIL : Only one thread at a time.\n",
        "-No effects for CPU-bound tasks.\n",
        "-Not interruptable/killable\n",
        "-Careful with race conditions."
      ],
      "metadata": {
        "id": "YTXG3LoimUGJ"
      }
    },
    {
      "cell_type": "markdown",
      "source": [
        "# GIL: Global interpreter lock\n",
        "- A lock that allows only one thread at a time to execute i  python.\n",
        "- Needed in CPython because memory management is not thread-safr.\n",
        "\n",
        " - Avoid:\n",
        "- Use multiprocessing \n",
        "- Use a different , free-threaded python implementation (jython, IronPython)\n",
        "- Use Python as a wrapper for third-party libraries (C/C++) -> numpy , scipy"
      ],
      "metadata": {
        "id": "iBFAHqzRJiHz"
      }
    },
    {
      "cell_type": "code",
      "execution_count": 4,
      "metadata": {
        "id": "61kLUxWtjSYh",
        "outputId": "faeed727-2f17-4520-ad78-4e7ab52d2c82",
        "colab": {
          "base_uri": "https://localhost:8080/"
        }
      },
      "outputs": [
        {
          "output_type": "stream",
          "name": "stdout",
          "text": [
            "end main\n"
          ]
        }
      ],
      "source": [
        "from multiprocessing import Process\n",
        "import os\n",
        "import time \n",
        "def square_numbers():\n",
        "    for i in range(100):\n",
        "        i * i\n",
        "        time.sleep(0.1)\n",
        "\n",
        "processes = []\n",
        "num_processes = os.cpu_count()\n",
        "\n",
        "# create processes\n",
        "for i in range(num_processes):\n",
        "     p = Process (target = square_numbers)              #target is a argument i.e. object or a function that is then executed by this program process.\n",
        "     processes.append(p)\n",
        "\n",
        "# Start\n",
        "for p in processes:\n",
        "    p.start()\n",
        "\n",
        "# join \n",
        "for p in processes:\n",
        "    p.join()\n",
        "\n",
        "print('end main')"
      ]
    },
    {
      "cell_type": "code",
      "source": [
        "from threading import Thread\n",
        "import os\n",
        "import time\n",
        "\n",
        "def square_numbers():\n",
        "    for i in range(100):\n",
        "        i * i\n",
        "        time.sleep(0.1)\n",
        "\n",
        "threads = []\n",
        "num_threads = 10\n",
        "\n",
        "# create processes\n",
        "for i in range(num_threads):\n",
        "    t = Thread (target=square_numbers)      \n",
        "    threads.append(t)\n",
        "\n",
        "# Start\n",
        "for t in threads:\n",
        "    t.start()\n",
        "\n",
        "# join \n",
        "for t in threads:\n",
        "    t.join() \n",
        "\n",
        "print('end main')"
      ],
      "metadata": {
        "id": "WzDLplAONlv3",
        "outputId": "14f950d5-6945-498c-8a40-de5432d3cb18",
        "colab": {
          "base_uri": "https://localhost:8080/"
        }
      },
      "execution_count": 20,
      "outputs": [
        {
          "output_type": "stream",
          "name": "stdout",
          "text": [
            "end main\n"
          ]
        }
      ]
    }
  ]
}