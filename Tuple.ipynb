{
  "nbformat": 4,
  "nbformat_minor": 0,
  "metadata": {
    "colab": {
      "name": "Tuple.ipynb",
      "provenance": [],
      "authorship_tag": "ABX9TyPty4f+wZTzXZEzLZLF7ae0",
      "include_colab_link": true
    },
    "kernelspec": {
      "name": "python3",
      "display_name": "Python 3"
    },
    "language_info": {
      "name": "python"
    }
  },
  "cells": [
    {
      "cell_type": "markdown",
      "metadata": {
        "id": "view-in-github",
        "colab_type": "text"
      },
      "source": [
        "<a href=\"https://colab.research.google.com/github/Shraddha-Ramteke/Advanced-Python-Programming/blob/main/Tuple.ipynb\" target=\"_parent\"><img src=\"https://colab.research.google.com/assets/colab-badge.svg\" alt=\"Open In Colab\"/></a>"
      ]
    },
    {
      "cell_type": "markdown",
      "source": [
        "# **Tuple**\n",
        "#              Collection data type that is ordered and immutable . It is similar to a list with a main difference to the tuple cannot be changed after its creation.\n",
        "\n",
        "#             A tuple is often used for Objects that belong together."
      ],
      "metadata": {
        "id": "t0zSX09uXbqm"
      }
    },
    {
      "cell_type": "markdown",
      "source": [
        "# Tuple to a list and Vice versa"
      ],
      "metadata": {
        "id": "toKa4xDGZcj6"
      }
    },
    {
      "cell_type": "code",
      "execution_count": 9,
      "metadata": {
        "colab": {
          "base_uri": "https://localhost:8080/"
        },
        "id": "zlXytWR4UzCr",
        "outputId": "e571e1c6-8109-4d3b-c888-9643c0daaee7"
      },
      "outputs": [
        {
          "output_type": "stream",
          "name": "stdout",
          "text": [
            "['a', 'p', 'p', 'l', 'e']\n",
            "('a', 'p', 'p', 'l', 'e')\n"
          ]
        }
      ],
      "source": [
        "my_tuple = ('a','p','p','l','e')\n",
        "my_list = list(my_tuple)\n",
        "print(my_list)\n",
        "my_tuple2 = tuple(my_list)\n",
        "print(my_tuple2)\n"
      ]
    },
    {
      "cell_type": "markdown",
      "source": [
        "# **Unpack multiple element**"
      ],
      "metadata": {
        "id": "BEelBVMSYUyB"
      }
    },
    {
      "cell_type": "code",
      "source": [
        "my_tuple = (0,1,2,3,4)\n",
        "i1 , *i2 , i3 = my_tuple\n",
        "print(i1)\n",
        "print(i3)\n",
        "print(i2)"
      ],
      "metadata": {
        "colab": {
          "base_uri": "https://localhost:8080/"
        },
        "id": "y5YdykiTZpbJ",
        "outputId": "4a40b788-c262-4893-fd69-bf684ae77b18"
      },
      "execution_count": 10,
      "outputs": [
        {
          "output_type": "stream",
          "name": "stdout",
          "text": [
            "0\n",
            "4\n",
            "[1, 2, 3]\n"
          ]
        }
      ]
    }
  ]
}