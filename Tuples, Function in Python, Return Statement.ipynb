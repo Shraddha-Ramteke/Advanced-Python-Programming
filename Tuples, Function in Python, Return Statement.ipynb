{
  "nbformat": 4,
  "nbformat_minor": 0,
  "metadata": {
    "colab": {
      "name": "Untitled11.ipynb",
      "provenance": [],
      "collapsed_sections": [],
      "authorship_tag": "ABX9TyPPExA1xtjH6po6pQUjkAxK",
      "include_colab_link": true
    },
    "kernelspec": {
      "name": "python3",
      "display_name": "Python 3"
    },
    "language_info": {
      "name": "python"
    }
  },
  "cells": [
    {
      "cell_type": "markdown",
      "metadata": {
        "id": "view-in-github",
        "colab_type": "text"
      },
      "source": [
        "<a href=\"https://colab.research.google.com/github/Shraddha-Ramteke/Advanced-Python-Programming/blob/main/Tuples%2C%20Function%20in%20Python%2C%20Return%20Statement.ipynb\" target=\"_parent\"><img src=\"https://colab.research.google.com/assets/colab-badge.svg\" alt=\"Open In Colab\"/></a>"
      ]
    },
    {
      "cell_type": "markdown",
      "source": [
        "# **Tuples ->**\n",
        "             Tuples are Type of data structure container where we store multiple piece of information.\n",
        "             ex. Coordinates"
      ],
      "metadata": {
        "id": "Ro6IndYyJYVd"
      }
    },
    {
      "cell_type": "code",
      "execution_count": null,
      "metadata": {
        "colab": {
          "base_uri": "https://localhost:8080/"
        },
        "id": "8gv09hoLJXGK",
        "outputId": "d1824b95-421d-41d2-a5c3-434c1b89805c"
      },
      "outputs": [
        {
          "output_type": "stream",
          "name": "stdout",
          "text": [
            "4\n"
          ]
        }
      ],
      "source": [
        "coordinates = (4,5)\n",
        "print (coordinates[0])"
      ]
    },
    {
      "cell_type": "code",
      "source": [
        "coordinates = (4,5)\n",
        "coordinates[1]= 10\n",
        "print (coordinates[0])                  # This shows error because Tuples can't change , they are 'immutable'"
      ],
      "metadata": {
        "id": "xzRpBCfYMdt7"
      },
      "execution_count": null,
      "outputs": []
    },
    {
      "cell_type": "markdown",
      "source": [
        "# Function in Python"
      ],
      "metadata": {
        "id": "l4qHvIhbK9ZN"
      }
    },
    {
      "cell_type": "code",
      "source": [
        "def sayhi ():\n",
        "  print(\"Hello User\")\n",
        "\n",
        "sayhi()  "
      ],
      "metadata": {
        "colab": {
          "base_uri": "https://localhost:8080/"
        },
        "id": "iTiQNQaHLF1y",
        "outputId": "6260e003-624f-41c4-9588-10f7efa2230c"
      },
      "execution_count": null,
      "outputs": [
        {
          "output_type": "stream",
          "name": "stdout",
          "text": [
            "Hello User\n"
          ]
        }
      ]
    },
    {
      "cell_type": "code",
      "source": [
        "def sayhi ():\n",
        "  print(\"Hello User\")\n",
        "print(\"Top\")\n",
        "sayhi()\n",
        "print(\"Bottom\")"
      ],
      "metadata": {
        "colab": {
          "base_uri": "https://localhost:8080/"
        },
        "id": "O7AnOZ9wMtAU",
        "outputId": "d472739b-264f-4a1f-a0c0-9be111ea6abc"
      },
      "execution_count": null,
      "outputs": [
        {
          "output_type": "stream",
          "name": "stdout",
          "text": [
            "Top\n",
            "Hello User\n",
            "Bottom\n"
          ]
        }
      ]
    },
    {
      "cell_type": "code",
      "source": [
        "def sayhi (name):\n",
        "  print(\"Hello \" + name)\n",
        "sayhi (\"shiro\") \n",
        "sayhi (\"Dora\")"
      ],
      "metadata": {
        "colab": {
          "base_uri": "https://localhost:8080/"
        },
        "id": "CsIUinfXNEuH",
        "outputId": "30ae1dc6-dd25-4db0-ee4b-e51a1c87d14e"
      },
      "execution_count": null,
      "outputs": [
        {
          "output_type": "stream",
          "name": "stdout",
          "text": [
            "Hello shiro\n",
            "Hello Dora\n"
          ]
        }
      ]
    },
    {
      "cell_type": "markdown",
      "source": [
        "# Return Statement "
      ],
      "metadata": {
        "id": "f9hsLGjGN0Kv"
      }
    },
    {
      "cell_type": "code",
      "source": [
        "def cube (num):\n",
        "  return num*num*num \n",
        "print(cube(4))                    #Cube of 4"
      ],
      "metadata": {
        "colab": {
          "base_uri": "https://localhost:8080/"
        },
        "id": "7hT9glT0NvaW",
        "outputId": "9470adf0-26db-4e21-87a0-68d43687e30b"
      },
      "execution_count": null,
      "outputs": [
        {
          "output_type": "stream",
          "name": "stdout",
          "text": [
            "64\n"
          ]
        }
      ]
    }
  ]
}