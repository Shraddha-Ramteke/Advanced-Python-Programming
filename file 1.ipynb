{
  "nbformat": 4,
  "nbformat_minor": 0,
  "metadata": {
    "colab": {
      "name": "Untitled8.ipynb",
      "provenance": [],
      "collapsed_sections": [],
      "authorship_tag": "ABX9TyPCDur1ijtS5vWgy6zYkojq",
      "include_colab_link": true
    },
    "kernelspec": {
      "name": "python3",
      "display_name": "Python 3"
    },
    "language_info": {
      "name": "python"
    }
  },
  "cells": [
    {
      "cell_type": "markdown",
      "metadata": {
        "id": "view-in-github",
        "colab_type": "text"
      },
      "source": [
        "<a href=\"https://colab.research.google.com/github/Shraddha-Ramteke/Advanced-Python-Programming/blob/main/file%201.ipynb\" target=\"_parent\"><img src=\"https://colab.research.google.com/assets/colab-badge.svg\" alt=\"Open In Colab\"/></a>"
      ]
    },
    {
      "cell_type": "markdown",
      "source": [
        "# Here are some programs ->"
      ],
      "metadata": {
        "id": "BtLNe9nry_c2"
      }
    },
    {
      "cell_type": "code",
      "execution_count": 1,
      "metadata": {
        "colab": {
          "base_uri": "https://localhost:8080/"
        },
        "id": "VHl-oXehy-c5",
        "outputId": "4b6d929a-a971-406e-88d4-5008dbca1158"
      },
      "outputs": [
        {
          "output_type": "stream",
          "name": "stdout",
          "text": [
            "hello world\n"
          ]
        }
      ],
      "source": [
        "#print hello world \n",
        "\n",
        "print(\"hello world\")"
      ]
    },
    {
      "cell_type": "code",
      "source": [
        "# Drawing a Shape\n",
        "\n",
        "print(\"   /|\")\n",
        "print(\"  / |\")\n",
        "print(\" /  |\")\n",
        "print(\"/___|\")"
      ],
      "metadata": {
        "colab": {
          "base_uri": "https://localhost:8080/"
        },
        "id": "1MZZ0TdYzUhP",
        "outputId": "87b452ed-bd95-479c-e537-1cf8d60aa076"
      },
      "execution_count": 2,
      "outputs": [
        {
          "output_type": "stream",
          "name": "stdout",
          "text": [
            "   /|\n",
            "  / |\n",
            " /  |\n",
            "/___|\n"
          ]
        }
      ]
    },
    {
      "cell_type": "code",
      "source": [
        "#Variables & Data Types\n",
        "\n",
        "char_name = \"Shah rukh Khan\"\n",
        "char_age = \"56\"\n",
        "char_place = \"New Delhi, India.\"\n",
        "print(char_name + \" also known by the initialism SRK.\")\n",
        "print(char_name + \" is a \" + char_age + \" year old Indian Actor.\")\n",
        "print(char_name + \" was born on 2nd Nov,1956 in \" + char_place )\n"
      ],
      "metadata": {
        "colab": {
          "base_uri": "https://localhost:8080/"
        },
        "id": "Ve4FflMY0gF5",
        "outputId": "ebfefc3d-c654-4efc-bd65-1813408c4e0a"
      },
      "execution_count": 9,
      "outputs": [
        {
          "output_type": "stream",
          "name": "stdout",
          "text": [
            "Shah rukh Khan also known by the initialism SRK.\n",
            "Shah rukh Khan is a 56 year old Indian Actor.\n",
            "Shah rukh Khan was born on 2nd Nov,1956 in New Delhi, India.\n"
          ]
        }
      ]
    },
    {
      "cell_type": "markdown",
      "source": [
        "# Working with Strings"
      ],
      "metadata": {
        "id": "YSerUQ6u53aT"
      }
    },
    {
      "cell_type": "code",
      "source": [
        "print(\"great\\n job\")"
      ],
      "metadata": {
        "colab": {
          "base_uri": "https://localhost:8080/"
        },
        "id": "x4KusCym4VFP",
        "outputId": "fa0ffd19-860c-472b-b7fe-79666064688e"
      },
      "execution_count": 10,
      "outputs": [
        {
          "output_type": "stream",
          "name": "stdout",
          "text": [
            "great\n",
            " job\n"
          ]
        }
      ]
    },
    {
      "cell_type": "code",
      "source": [
        "name = \"Shraddha\"\n",
        "print(name)"
      ],
      "metadata": {
        "colab": {
          "base_uri": "https://localhost:8080/"
        },
        "id": "9ERzy2aL6BQB",
        "outputId": "6099da2a-7db0-426f-815c-d14e3fa7e0cd"
      },
      "execution_count": 14,
      "outputs": [
        {
          "output_type": "stream",
          "name": "stdout",
          "text": [
            "Shraddha\n"
          ]
        }
      ]
    },
    {
      "cell_type": "code",
      "source": [
        "# If want in lower case\n",
        "name = \"Shraddha\"\n",
        "print(name.lower())"
      ],
      "metadata": {
        "colab": {
          "base_uri": "https://localhost:8080/"
        },
        "id": "l-hf0SCE6uvB",
        "outputId": "78d04782-53d1-4f69-fe85-cef79c4338e0"
      },
      "execution_count": 15,
      "outputs": [
        {
          "output_type": "stream",
          "name": "stdout",
          "text": [
            "shraddha\n"
          ]
        }
      ]
    },
    {
      "cell_type": "code",
      "source": [
        "# If want in Upper case\n",
        "name = \"Shraddha\"\n",
        "print(name.upper())"
      ],
      "metadata": {
        "colab": {
          "base_uri": "https://localhost:8080/"
        },
        "id": "2emStXGD647e",
        "outputId": "fdbf5aca-95c5-4c32-e773-70e9b1a54c1e"
      },
      "execution_count": 16,
      "outputs": [
        {
          "output_type": "stream",
          "name": "stdout",
          "text": [
            "SHRADDHA\n"
          ]
        }
      ]
    },
    {
      "cell_type": "code",
      "source": [
        "# to find how many char in String\n",
        "name = \"Shraddha\"\n",
        "print(len(name))"
      ],
      "metadata": {
        "colab": {
          "base_uri": "https://localhost:8080/"
        },
        "id": "7K3If1dt7CfH",
        "outputId": "c131ed8a-9848-4a28-beff-fe60dbfec8fd"
      },
      "execution_count": 17,
      "outputs": [
        {
          "output_type": "stream",
          "name": "stdout",
          "text": [
            "8\n"
          ]
        }
      ]
    },
    {
      "cell_type": "code",
      "source": [
        "# To find 1st Char in String \n",
        "name = \"Shraddha\"\n",
        "print(name[0])"
      ],
      "metadata": {
        "colab": {
          "base_uri": "https://localhost:8080/"
        },
        "id": "SCJ9nSyZ7NWx",
        "outputId": "449d091e-ae56-4506-cfde-00d859cdf078"
      },
      "execution_count": 18,
      "outputs": [
        {
          "output_type": "stream",
          "name": "stdout",
          "text": [
            "S\n"
          ]
        }
      ]
    },
    {
      "cell_type": "code",
      "source": [
        "# Index function \n",
        "name = \"Shraddha\"\n",
        "print(name.index('d'))"
      ],
      "metadata": {
        "colab": {
          "base_uri": "https://localhost:8080/"
        },
        "id": "CZZa4wCJ7YK2",
        "outputId": "1b4535e8-a574-4a84-fc4b-1d0557e381bd"
      },
      "execution_count": 19,
      "outputs": [
        {
          "output_type": "stream",
          "name": "stdout",
          "text": [
            "4\n"
          ]
        }
      ]
    },
    {
      "cell_type": "code",
      "source": [
        "# To replace Function\n",
        "name = \"Shraddha\"\n",
        "print(name.replace(\"Shraddha\",\"Shruti\"))"
      ],
      "metadata": {
        "colab": {
          "base_uri": "https://localhost:8080/"
        },
        "id": "G9zEln8H7k4g",
        "outputId": "dfe8a471-9b15-4f26-8cc8-eec9510bc747"
      },
      "execution_count": 20,
      "outputs": [
        {
          "output_type": "stream",
          "name": "stdout",
          "text": [
            "Shruti\n"
          ]
        }
      ]
    },
    {
      "cell_type": "markdown",
      "source": [
        "# Working With Numbers"
      ],
      "metadata": {
        "id": "Id8s8FWD827X"
      }
    },
    {
      "cell_type": "code",
      "source": [
        "print(2)"
      ],
      "metadata": {
        "colab": {
          "base_uri": "https://localhost:8080/"
        },
        "id": "z_NxPihb85QK",
        "outputId": "4958db20-13b3-4f45-ef83-23a55d5b78fc"
      },
      "execution_count": 21,
      "outputs": [
        {
          "output_type": "stream",
          "name": "stdout",
          "text": [
            "2\n"
          ]
        }
      ]
    },
    {
      "cell_type": "code",
      "source": [
        "print(2+5)"
      ],
      "metadata": {
        "colab": {
          "base_uri": "https://localhost:8080/"
        },
        "id": "WT6hPjlF9wrW",
        "outputId": "057acfbc-aeb5-4e18-90c1-b52332e787ec"
      },
      "execution_count": 22,
      "outputs": [
        {
          "output_type": "stream",
          "name": "stdout",
          "text": [
            "7\n"
          ]
        }
      ]
    },
    {
      "cell_type": "code",
      "source": [
        "print(10%2)           #gives remainder"
      ],
      "metadata": {
        "colab": {
          "base_uri": "https://localhost:8080/"
        },
        "id": "dwAw9e0U90w-",
        "outputId": "cd520326-8d79-4ac3-e33a-7a2ea5ef905c"
      },
      "execution_count": 23,
      "outputs": [
        {
          "output_type": "stream",
          "name": "stdout",
          "text": [
            "0\n"
          ]
        }
      ]
    },
    {
      "cell_type": "code",
      "source": [
        "print(2*(4+9))"
      ],
      "metadata": {
        "colab": {
          "base_uri": "https://localhost:8080/"
        },
        "id": "tUioHyLb-GHB",
        "outputId": "8a983530-9167-428c-927b-b818bc3e61ca"
      },
      "execution_count": 24,
      "outputs": [
        {
          "output_type": "stream",
          "name": "stdout",
          "text": [
            "26\n"
          ]
        }
      ]
    },
    {
      "cell_type": "code",
      "source": [
        "my_num = 2\n",
        "print(abs(my_num))         # abs = absolute value"
      ],
      "metadata": {
        "colab": {
          "base_uri": "https://localhost:8080/"
        },
        "id": "UCJ_cwvy-Mqd",
        "outputId": "2aa72c6d-71e4-4d81-8b12-2d932e8f5744"
      },
      "execution_count": 35,
      "outputs": [
        {
          "output_type": "stream",
          "name": "stdout",
          "text": [
            "2\n"
          ]
        }
      ]
    },
    {
      "cell_type": "code",
      "source": [
        "my_num = 3,7\n",
        "print(max(my_num))         # Higher number\n"
      ],
      "metadata": {
        "colab": {
          "base_uri": "https://localhost:8080/"
        },
        "id": "3B_YM16z_uID",
        "outputId": "8420a9f7-624c-4582-c1c2-a5361c7903c5"
      },
      "execution_count": 38,
      "outputs": [
        {
          "output_type": "stream",
          "name": "stdout",
          "text": [
            "7\n"
          ]
        }
      ]
    },
    {
      "cell_type": "code",
      "source": [
        "my_num = 5,8\n",
        "print(min(my_num))        # smaller number"
      ],
      "metadata": {
        "colab": {
          "base_uri": "https://localhost:8080/"
        },
        "id": "-ShGmbVJAMSv",
        "outputId": "748c5455-87d9-4585-94b3-a6663509bab5"
      },
      "execution_count": 39,
      "outputs": [
        {
          "output_type": "stream",
          "name": "stdout",
          "text": [
            "5\n"
          ]
        }
      ]
    },
    {
      "cell_type": "code",
      "source": [
        "my_num = 5.6\n",
        "print(round(my_num))     "
      ],
      "metadata": {
        "colab": {
          "base_uri": "https://localhost:8080/"
        },
        "id": "i8I8xjjcAY7a",
        "outputId": "9a356b22-bab5-4189-a7b6-ea023f071836"
      },
      "execution_count": 40,
      "outputs": [
        {
          "output_type": "stream",
          "name": "stdout",
          "text": [
            "6\n"
          ]
        }
      ]
    }
  ]
}