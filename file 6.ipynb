{
  "nbformat": 4,
  "nbformat_minor": 0,
  "metadata": {
    "colab": {
      "name": "Copy of Untitled13.ipynb",
      "provenance": [],
      "collapsed_sections": [],
      "authorship_tag": "ABX9TyNonSmoDzHL05s9O1G9Etbh",
      "include_colab_link": true
    },
    "kernelspec": {
      "name": "python3",
      "display_name": "Python 3"
    },
    "language_info": {
      "name": "python"
    }
  },
  "cells": [
    {
      "cell_type": "markdown",
      "metadata": {
        "id": "view-in-github",
        "colab_type": "text"
      },
      "source": [
        "<a href=\"https://colab.research.google.com/github/Shraddha-Ramteke/Advanced-Python-Programming/blob/main/file%206.ipynb\" target=\"_parent\"><img src=\"https://colab.research.google.com/assets/colab-badge.svg\" alt=\"Open In Colab\"/></a>"
      ]
    },
    {
      "cell_type": "markdown",
      "source": [
        "# Dictionaries ->"
      ],
      "metadata": {
        "id": "_3RDGt7gPfXp"
      }
    },
    {
      "cell_type": "code",
      "execution_count": null,
      "metadata": {
        "colab": {
          "base_uri": "https://localhost:8080/"
        },
        "id": "YRu2KSNgPF6F",
        "outputId": "ddabc744-c7f8-4183-e027-b13a60f30292"
      },
      "outputs": [
        {
          "output_type": "stream",
          "name": "stdout",
          "text": [
            "February\n"
          ]
        }
      ],
      "source": [
        "MonthConversion = {\n",
        "    \"Jan\": \"January\",\n",
        "    \"Feb\": \"February\",\n",
        "    \"Mar\": \"March\",\n",
        "    \"Apr\": \"April\",\n",
        "    \"May\": \"May\",\n",
        "    \"June\": \"June\",\n",
        "    \"July\": \"July\",\n",
        "    \"Aug\": \"August\",\n",
        "    \"Sept\": \"September\",\n",
        "    \"Oct\": \"October\",\n",
        "    \"Nov\": \"November\",\n",
        "    \"Dec\": \"December\",\n",
        "                   }\n",
        "print(MonthConversion[\"Feb\"])"
      ]
    },
    {
      "cell_type": "markdown",
      "source": [
        "# While loop"
      ],
      "metadata": {
        "id": "rrEow5fuhSih"
      }
    },
    {
      "cell_type": "code",
      "source": [
        "i = 1\n",
        "while i<= 10:\n",
        "  print (i)\n",
        "  i += 1\n",
        "\n",
        "print(\"Done with loop\")"
      ],
      "metadata": {
        "colab": {
          "base_uri": "https://localhost:8080/"
        },
        "id": "yANd4gBWhW-M",
        "outputId": "7bb6e87d-8491-438f-eb0c-d45dd7490368"
      },
      "execution_count": 1,
      "outputs": [
        {
          "output_type": "stream",
          "name": "stdout",
          "text": [
            "1\n",
            "2\n",
            "3\n",
            "4\n",
            "5\n",
            "6\n",
            "7\n",
            "8\n",
            "9\n",
            "10\n",
            "Done with loop\n"
          ]
        }
      ]
    }
  ]
}